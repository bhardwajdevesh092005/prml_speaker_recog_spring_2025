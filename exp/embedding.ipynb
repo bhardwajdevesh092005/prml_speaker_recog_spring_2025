{
 "cells": [
  {
   "cell_type": "code",
   "execution_count": 1,
   "id": "ae6f9bf9",
   "metadata": {},
   "outputs": [],
   "source": [
    "# import necessary libraries\n",
    "from resemblyzer import preprocess_wav, VoiceEncoder\n",
    "from  pathlib import Path \n",
    "from tqdm import tqdm \n",
    "import numpy as np \n",
    "# from Ipython.display import Audio \n",
    "from itertools import groupby\n",
    "import heapq\n",
    "\n",
    "# # run sample audio\n",
    "# audio_sample = Audio(\"data/processed3/50_speakers_audio_data/Speaker_0000/Speaker_0000_Speaker_0000_00000_chunk0.wav\")\n",
    "# display(audio_sample)"
   ]
  },
  {
   "cell_type": "code",
   "execution_count": 2,
   "id": "3e0dd80a",
   "metadata": {},
   "outputs": [],
   "source": [
    "import numpy as np\n",
    "# import pandas as pd\n",
    "import librosa\n",
    "# import tensorflow as tf\n",
    "# from tensorflow.keras import layers, models\n",
    "import matplotlib.pyplot as plt\n",
    "import sklearn\n",
    "from sklearn.preprocessing import StandardScaler\n",
    "from sklearn.model_selection import train_test_split\n",
    "import os\n",
    "import torch\n",
    "import torchaudio\n",
    "import torch.nn.functional as F\n",
    "import torch.nn as nn\n",
    "import torch.optim as optim\n",
    "from torch.utils.data import DataLoader, TensorDataset"
   ]
  },
  {
   "cell_type": "code",
   "execution_count": 3,
   "id": "6d413716",
   "metadata": {},
   "outputs": [],
   "source": [
    "\n",
    "def set_seed(seed):\n",
    "    torch.manual_seed(seed)\n",
    "    torch.cuda.manual_seed(seed)  # For CUDA\n",
    "    torch.cuda.manual_seed_all(seed)  # For multi-GPU\n",
    "    np.random.seed(seed)\n",
    "\n",
    "    # Ensures deterministic behavior (optional, can slow things down)\n",
    "    torch.backends.cudnn.deterministic = True\n",
    "    torch.backends.cudnn.benchmark = False\n",
    "\n",
    "set_seed(42)"
   ]
  },
  {
   "cell_type": "code",
   "execution_count": 7,
   "id": "84b3728e",
   "metadata": {},
   "outputs": [],
   "source": [
    "data_file= \"data/raw/50_speakers_audio_data\""
   ]
  },
  {
   "cell_type": "code",
   "execution_count": 8,
   "id": "02bec4b6",
   "metadata": {},
   "outputs": [],
   "source": [
    "no_speakers_file=50\n",
    "\n",
    "def speakers_list(no_speakers_file ,data_file ):\n",
    "    speaker_l = []\n",
    "\n",
    "    # Get all subfolders in the data_file directory\n",
    "    subfolders = [f.name for f in os.scandir(data_file) if f.is_dir()]\n",
    "\n",
    "    # Check if the requested number of speakers is available\n",
    "    if no_speakers_file > len(subfolders):\n",
    "        raise ValueError(f\"Requested {no_speakers_file} speakers, but only {len(subfolders)} available.\")\n",
    "\n",
    "    # Select the first 'no_speakers_file' subfolders\n",
    "    speaker_l = subfolders[:no_speakers_file]\n",
    "\n",
    "    return speaker_l\n",
    "\n",
    "speaker_list = speakers_list(no_speakers_file,data_file )"
   ]
  },
  {
   "cell_type": "code",
   "execution_count": 9,
   "id": "ed52ee46",
   "metadata": {},
   "outputs": [
    {
     "data": {
      "text/plain": [
       "['Speaker_0006',\n",
       " 'Speaker0028',\n",
       " 'Speaker_0012',\n",
       " 'Speaker0032',\n",
       " 'Speaker0044',\n",
       " 'Speaker_0008',\n",
       " 'Speaker0036',\n",
       " 'Speaker_0003',\n",
       " 'Speaker0050',\n",
       " 'Speaker0043',\n",
       " 'Speaker_0018',\n",
       " 'Speaker0046',\n",
       " 'Speaker_0011',\n",
       " 'Speaker0045',\n",
       " 'Speaker_0014',\n",
       " 'Speaker0029',\n",
       " 'Speaker0040',\n",
       " 'Speaker_0005',\n",
       " 'Speaker_0022',\n",
       " 'Speaker_0025',\n",
       " 'Speaker0035',\n",
       " 'Speaker_0017',\n",
       " 'Speaker0026',\n",
       " 'Speaker_0013',\n",
       " 'Speaker_0010',\n",
       " 'Speaker0049',\n",
       " 'Speaker_0024',\n",
       " 'Speaker0048',\n",
       " 'Speaker0031',\n",
       " 'Speaker_0015',\n",
       " 'Speaker_0020',\n",
       " 'Speaker0030',\n",
       " 'Speaker_0000',\n",
       " 'Speaker0037',\n",
       " 'Speaker0047',\n",
       " 'Speaker_0023',\n",
       " 'Speaker_0016',\n",
       " 'Speaker0041',\n",
       " 'Speaker0038',\n",
       " 'Speaker_0001',\n",
       " 'Speaker_0007',\n",
       " 'Speaker_0019',\n",
       " 'Speaker0034',\n",
       " 'Speaker0027',\n",
       " 'Speaker0033',\n",
       " 'Speaker0042',\n",
       " 'Speaker_0009',\n",
       " 'Speaker0039',\n",
       " 'Speaker_0021',\n",
       " 'Speaker_0002']"
      ]
     },
     "execution_count": 9,
     "metadata": {},
     "output_type": "execute_result"
    }
   ],
   "source": [
    "speaker_list"
   ]
  },
  {
   "cell_type": "code",
   "execution_count": 10,
   "id": "b5a6ebe2",
   "metadata": {},
   "outputs": [
    {
     "name": "stdout",
     "output_type": "stream",
     "text": [
      "Loaded the voice encoder model on cuda in 0.18 seconds.\n"
     ]
    }
   ],
   "source": [
    "import os\n",
    "import numpy as np\n",
    "from resemblyzer import preprocess_wav, VoiceEncoder\n",
    "from tqdm import tqdm\n",
    "from qdrant_client import QdrantClient\n",
    "from qdrant_client.http.models import VectorParams, Distance\n",
    "\n",
    "# Set up Qdrant client\n",
    "client = QdrantClient(url=\"http://localhost:6333\")\n",
    "embeddings = []\n",
    "collection_name=\"my-collection\"\n",
    "encoder = VoiceEncoder(\"cuda\")\n",
    "\n",
    "# Define function to preprocess and encode audio files\n",
    "def process_wavs(data_folder, speaker_list, collection_name=\"my-collection\"):\n",
    "    # Initialize encoder\n",
    "   \n",
    "\n",
    "    # Prepare storage for embeddings\n",
    "   \n",
    "\n",
    "    # Iterate through each speaker and their files\n",
    "    for speaker_id, speaker_folder in enumerate(speaker_list):\n",
    "        folder_path = os.path.join(data_folder, speaker_folder)\n",
    "        \n",
    "        # Process each audio file\n",
    "        for file_name in tqdm(os.listdir(folder_path), desc=f\"Processing {speaker_folder}\"):\n",
    "            if file_name.endswith('.wav'):\n",
    "                file_path = os.path.join(folder_path, file_name)\n",
    "                \n",
    "                # Preprocess and encode the wav\n",
    "                wav = preprocess_wav(file_path)\n",
    "                embedding = encoder.embed_utterance(wav)\n",
    "                \n",
    "                # Add embedding to the list with speaker info\n",
    "                embedding_dict = {\n",
    "                    \"id\": len(embeddings) + 1,  # Unique ID for each embedding\n",
    "                    \"vector\": embedding.tolist(),\n",
    "                    \"payload\": {\"speaker_id\": int(speaker_folder[-2:]), \"speaker_folder\": speaker_folder}\n",
    "                }\n",
    "                embeddings.append(embedding_dict)\n",
    "\n"
   ]
  },
  {
   "cell_type": "code",
   "execution_count": 11,
   "id": "a5835794",
   "metadata": {},
   "outputs": [
    {
     "data": {
      "text/plain": [
       "[]"
      ]
     },
     "execution_count": 11,
     "metadata": {},
     "output_type": "execute_result"
    }
   ],
   "source": [
    "embeddings"
   ]
  },
  {
   "cell_type": "code",
   "execution_count": 12,
   "id": "fc7d3a9d",
   "metadata": {},
   "outputs": [
    {
     "name": "stderr",
     "output_type": "stream",
     "text": [
      "Processing Speaker_0006: 100%|██████████| 76/76 [00:17<00:00,  4.43it/s]\n",
      "Processing Speaker0028: 100%|██████████| 59/59 [00:10<00:00,  5.73it/s]\n",
      "Processing Speaker_0012: 100%|██████████| 34/34 [00:05<00:00,  6.32it/s]\n",
      "Processing Speaker0032: 100%|██████████| 37/37 [00:06<00:00,  5.65it/s]\n",
      "Processing Speaker0044:   8%|▊         | 3/37 [00:00<00:06,  5.21it/s][src/libmpg123/layer3.c:INT123_do_layer3():1774] error: part2_3_length (1600) too large for available bit count (1568)\n",
      "Processing Speaker0044:  16%|█▌        | 6/37 [00:01<00:06,  5.12it/s][src/libmpg123/layer3.c:INT123_do_layer3():1774] error: part2_3_length (2464) too large for available bit count (1568)\n",
      "Processing Speaker0044:  24%|██▍       | 9/37 [00:01<00:05,  5.07it/s][src/libmpg123/layer3.c:INT123_do_layer3():1774] error: part2_3_length (2144) too large for available bit count (1568)\n",
      "Processing Speaker0044:  32%|███▏      | 12/37 [00:02<00:04,  5.05it/s][src/libmpg123/layer3.c:INT123_do_layer3():1774] error: part2_3_length (1600) too large for available bit count (1568)\n",
      "Processing Speaker0044:  38%|███▊      | 14/37 [00:02<00:04,  5.04it/s][src/libmpg123/layer3.c:INT123_do_layer3():1774] error: part2_3_length (2016) too large for available bit count (1568)\n",
      "Processing Speaker0044:  49%|████▊     | 18/37 [00:03<00:03,  5.18it/s][src/libmpg123/layer3.c:INT123_do_layer3():1774] error: part2_3_length (1792) too large for available bit count (1560)\n",
      "Processing Speaker0044:  51%|█████▏    | 19/37 [00:03<00:03,  5.16it/s][src/libmpg123/layer3.c:INT123_do_layer3():1774] error: part2_3_length (1600) too large for available bit count (1568)\n",
      "Processing Speaker0044:  54%|█████▍    | 20/37 [00:03<00:03,  5.14it/s][src/libmpg123/layer3.c:INT123_do_layer3():1774] error: part2_3_length (1600) too large for available bit count (1568)\n",
      "Processing Speaker0044:  70%|███████   | 26/37 [00:05<00:02,  5.09it/s][src/libmpg123/layer3.c:INT123_do_layer3():1774] error: part2_3_length (1664) too large for available bit count (1568)\n",
      "Processing Speaker0044:  81%|████████  | 30/37 [00:05<00:01,  5.57it/s][src/libmpg123/layer3.c:INT123_do_layer3():1774] error: part2_3_length (1600) too large for available bit count (1568)\n",
      "Processing Speaker0044:  84%|████████▍ | 31/37 [00:05<00:01,  5.43it/s][src/libmpg123/layer3.c:INT123_do_layer3():1774] error: part2_3_length (2112) too large for available bit count (1568)\n",
      "Processing Speaker0044:  86%|████████▋ | 32/37 [00:06<00:00,  5.35it/s][src/libmpg123/layer3.c:INT123_do_layer3():1774] error: part2_3_length (2496) too large for available bit count (1568)\n",
      "Processing Speaker0044:  95%|█████████▍| 35/37 [00:06<00:00,  5.21it/s][src/libmpg123/layer3.c:INT123_do_layer3():1774] error: part2_3_length (1696) too large for available bit count (1560)\n",
      "Processing Speaker0044: 100%|██████████| 37/37 [00:07<00:00,  5.21it/s]\n",
      "Processing Speaker_0008: 100%|██████████| 99/99 [00:16<00:00,  5.92it/s]\n",
      "Processing Speaker0036:  39%|███▉      | 13/33 [00:02<00:03,  5.04it/s][src/libmpg123/layer3.c:INT123_do_layer3():1774] error: part2_3_length (1600) too large for available bit count (1568)\n",
      "Processing Speaker0036:  61%|██████    | 20/33 [00:03<00:02,  5.27it/s][src/libmpg123/layer3.c:INT123_do_layer3():1774] error: part2_3_length (1952) too large for available bit count (1568)\n",
      "Processing Speaker0036:  82%|████████▏ | 27/33 [00:05<00:01,  5.15it/s][src/libmpg123/layer3.c:INT123_do_layer3():1774] error: part2_3_length (2720) too large for available bit count (1568)\n",
      "Processing Speaker0036:  88%|████████▊ | 29/33 [00:05<00:00,  5.26it/s][src/libmpg123/layer3.c:INT123_do_layer3():1774] error: part2_3_length (1984) too large for available bit count (1568)\n",
      "Processing Speaker0036: 100%|██████████| 33/33 [00:06<00:00,  5.19it/s]\n",
      "Processing Speaker_0003:  11%|█         | 9/85 [00:01<00:12,  6.11it/s]/data/anaconda3/envs/speech/lib/python3.13/site-packages/resemblyzer/audio.py:104: RuntimeWarning: divide by zero encountered in log10\n",
      "  wave_dBFS = 20 * np.log10(rms / int16_max)\n",
      "/data/anaconda3/envs/speech/lib/python3.13/site-packages/resemblyzer/audio.py:108: RuntimeWarning: invalid value encountered in multiply\n",
      "  return wav * (10 ** (dBFS_change / 20))\n",
      "/data/anaconda3/envs/speech/lib/python3.13/site-packages/resemblyzer/audio.py:72: RuntimeWarning: invalid value encountered in cast\n",
      "  pcm_wave = struct.pack(\"%dh\" % len(wav), *(np.round(wav * int16_max)).astype(np.int16))\n",
      "Processing Speaker_0003: 100%|██████████| 85/85 [00:13<00:00,  6.13it/s]\n",
      "Processing Speaker0050: 100%|██████████| 33/33 [00:05<00:00,  5.69it/s]\n",
      "Processing Speaker0043:  21%|██        | 7/34 [00:01<00:05,  5.10it/s][src/libmpg123/layer3.c:INT123_do_layer3():1774] error: part2_3_length (1696) too large for available bit count (1568)\n",
      "[src/libmpg123/layer3.c:INT123_do_layer3():1774] error: part2_3_length (1600) too large for available bit count (1568)\n",
      "Processing Speaker0043:  32%|███▏      | 11/34 [00:01<00:03,  6.30it/s][src/libmpg123/layer3.c:INT123_do_layer3():1774] error: part2_3_length (1600) too large for available bit count (1568)\n",
      "Processing Speaker0043:  47%|████▋     | 16/34 [00:02<00:03,  5.28it/s][src/libmpg123/layer3.c:INT123_do_layer3():1774] error: part2_3_length (1792) too large for available bit count (1568)\n",
      "Processing Speaker0043:  53%|█████▎    | 18/34 [00:03<00:02,  5.46it/s][src/libmpg123/layer3.c:INT123_do_layer3():1774] error: part2_3_length (1728) too large for available bit count (1560)\n",
      "Processing Speaker0043:  59%|█████▉    | 20/34 [00:03<00:02,  5.39it/s][src/libmpg123/layer3.c:INT123_do_layer3():1774] error: part2_3_length (2176) too large for available bit count (1568)\n",
      "Processing Speaker0043:  62%|██████▏   | 21/34 [00:03<00:02,  5.27it/s][src/libmpg123/layer3.c:INT123_do_layer3():1774] error: part2_3_length (1632) too large for available bit count (1560)\n",
      "Processing Speaker0043:  68%|██████▊   | 23/34 [00:04<00:02,  5.16it/s][src/libmpg123/layer3.c:INT123_do_layer3():1774] error: part2_3_length (1664) too large for available bit count (1568)\n",
      "Processing Speaker0043:  76%|███████▋  | 26/34 [00:04<00:01,  5.16it/s][src/libmpg123/layer3.c:INT123_do_layer3():1774] error: part2_3_length (1696) too large for available bit count (1568)\n",
      "Processing Speaker0043:  85%|████████▌ | 29/34 [00:05<00:00,  5.07it/s][src/libmpg123/layer3.c:INT123_do_layer3():1774] error: part2_3_length (1600) too large for available bit count (1568)\n",
      "Processing Speaker0043:  97%|█████████▋| 33/34 [00:06<00:00,  5.05it/s][src/libmpg123/layer3.c:INT123_do_layer3():1774] error: part2_3_length (1888) too large for available bit count (1568)\n",
      "Processing Speaker0043: 100%|██████████| 34/34 [00:06<00:00,  5.32it/s]\n",
      "Processing Speaker_0018: 100%|██████████| 40/40 [00:06<00:00,  6.12it/s]\n",
      "Processing Speaker0046: 100%|██████████| 38/38 [00:06<00:00,  5.66it/s]\n",
      "Processing Speaker_0011: 100%|██████████| 65/65 [00:11<00:00,  5.91it/s]\n",
      "Processing Speaker0045: 100%|██████████| 42/42 [00:07<00:00,  5.65it/s]\n",
      "Processing Speaker_0014: 100%|██████████| 51/51 [00:08<00:00,  6.00it/s]\n",
      "Processing Speaker0029: 100%|██████████| 31/31 [00:05<00:00,  5.64it/s]\n",
      "Processing Speaker0040: 100%|██████████| 32/32 [00:05<00:00,  5.63it/s]\n",
      "Processing Speaker_0005: 100%|██████████| 72/72 [00:11<00:00,  6.17it/s]\n",
      "Processing Speaker_0022: 100%|██████████| 3/3 [00:03<00:00,  1.16s/it]\n",
      "Processing Speaker_0025: 100%|██████████| 49/49 [00:07<00:00,  6.36it/s]\n",
      "Processing Speaker0035:   0%|          | 0/32 [00:00<?, ?it/s][src/libmpg123/layer3.c:INT123_do_layer3():1774] error: part2_3_length (2368) too large for available bit count (1560)\n",
      "Processing Speaker0035:   6%|▋         | 2/32 [00:00<00:05,  5.32it/s][src/libmpg123/layer3.c:INT123_do_layer3():1774] error: part2_3_length (1632) too large for available bit count (1568)\n",
      "Processing Speaker0035:  16%|█▌        | 5/32 [00:00<00:04,  5.56it/s][src/libmpg123/layer3.c:INT123_do_layer3():1774] error: part2_3_length (1632) too large for available bit count (1568)\n",
      "Processing Speaker0035:  34%|███▍      | 11/32 [00:02<00:03,  5.29it/s][src/libmpg123/layer3.c:INT123_do_layer3():1774] error: part2_3_length (2112) too large for available bit count (1568)\n",
      "Processing Speaker0035:  41%|████      | 13/32 [00:02<00:03,  5.33it/s][src/libmpg123/layer3.c:INT123_do_layer3():1774] error: part2_3_length (2592) too large for available bit count (1568)\n",
      "Processing Speaker0035:  44%|████▍     | 14/32 [00:02<00:03,  5.33it/s][src/libmpg123/layer3.c:INT123_do_layer3():1774] error: part2_3_length (2688) too large for available bit count (1568)\n",
      "Processing Speaker0035:  50%|█████     | 16/32 [00:02<00:02,  5.39it/s][src/libmpg123/layer3.c:INT123_do_layer3():1774] error: part2_3_length (1664) too large for available bit count (1568)\n",
      "Processing Speaker0035:  53%|█████▎    | 17/32 [00:03<00:02,  5.35it/s][src/libmpg123/layer3.c:INT123_do_layer3():1774] error: part2_3_length (1664) too large for available bit count (1568)\n",
      "Processing Speaker0035:  59%|█████▉    | 19/32 [00:03<00:02,  5.37it/s][src/libmpg123/layer3.c:INT123_do_layer3():1774] error: part2_3_length (1600) too large for available bit count (1568)\n",
      "Processing Speaker0035:  62%|██████▎   | 20/32 [00:03<00:02,  5.38it/s][src/libmpg123/layer3.c:INT123_do_layer3():1774] error: part2_3_length (1600) too large for available bit count (1568)\n",
      "Processing Speaker0035:  78%|███████▊  | 25/32 [00:04<00:01,  5.26it/s][src/libmpg123/layer3.c:INT123_do_layer3():1774] error: part2_3_length (1728) too large for available bit count (1568)\n",
      "Processing Speaker0035:  91%|█████████ | 29/32 [00:05<00:00,  5.39it/s][src/libmpg123/layer3.c:INT123_do_layer3():1774] error: part2_3_length (1600) too large for available bit count (1568)\n",
      "Processing Speaker0035: 100%|██████████| 32/32 [00:05<00:00,  5.35it/s]\n",
      "Processing Speaker_0017: 100%|██████████| 44/44 [00:06<00:00,  6.37it/s]\n",
      "Processing Speaker0026: 100%|██████████| 45/45 [00:07<00:00,  5.91it/s]\n",
      "Processing Speaker_0013: 100%|██████████| 37/37 [00:05<00:00,  6.34it/s]\n",
      "Processing Speaker_0010: 100%|██████████| 54/54 [00:08<00:00,  6.23it/s]\n",
      "Processing Speaker0049:   0%|          | 0/50 [00:00<?, ?it/s][src/libmpg123/layer3.c:INT123_do_layer3():1774] error: part2_3_length (2656) too large for available bit count (1568)\n",
      "Processing Speaker0049:  36%|███▌      | 18/50 [00:03<00:05,  5.45it/s][src/libmpg123/layer3.c:INT123_do_layer3():1774] error: part2_3_length (1824) too large for available bit count (1568)\n",
      "Processing Speaker0049:  44%|████▍     | 22/50 [00:04<00:05,  5.53it/s][src/libmpg123/layer3.c:INT123_do_layer3():1774] error: part2_3_length (1728) too large for available bit count (1568)\n",
      "Processing Speaker0049:  48%|████▊     | 24/50 [00:04<00:04,  5.44it/s][src/libmpg123/layer3.c:INT123_do_layer3():1774] error: part2_3_length (2016) too large for available bit count (1568)\n",
      "Processing Speaker0049:  56%|█████▌    | 28/50 [00:05<00:03,  5.77it/s][src/libmpg123/layer3.c:INT123_do_layer3():1774] error: part2_3_length (1696) too large for available bit count (1560)\n",
      "Processing Speaker0049:  68%|██████▊   | 34/50 [00:06<00:02,  5.72it/s][src/libmpg123/layer3.c:INT123_do_layer3():1774] error: part2_3_length (1984) too large for available bit count (1560)\n",
      "Processing Speaker0049:  72%|███████▏  | 36/50 [00:06<00:02,  5.84it/s][src/libmpg123/layer3.c:INT123_do_layer3():1774] error: part2_3_length (1728) too large for available bit count (1568)\n",
      "Processing Speaker0049:  78%|███████▊  | 39/50 [00:06<00:01,  6.23it/s][src/libmpg123/layer3.c:INT123_do_layer3():1774] error: part2_3_length (1568) too large for available bit count (1560)\n",
      "Processing Speaker0049:  80%|████████  | 40/50 [00:07<00:01,  5.95it/s][src/libmpg123/layer3.c:INT123_do_layer3():1774] error: part2_3_length (1600) too large for available bit count (1568)\n",
      "Processing Speaker0049:  96%|█████████▌| 48/50 [00:08<00:00,  5.42it/s][src/libmpg123/layer3.c:INT123_do_layer3():1774] error: part2_3_length (1600) too large for available bit count (1568)\n",
      "Processing Speaker0049: 100%|██████████| 50/50 [00:08<00:00,  5.57it/s]\n",
      "Processing Speaker_0024: 100%|██████████| 54/54 [00:08<00:00,  6.40it/s]\n",
      "Processing Speaker0048:   3%|▎         | 1/31 [00:00<00:05,  5.98it/s][src/libmpg123/layer3.c:INT123_do_layer3():1774] error: part2_3_length (1632) too large for available bit count (1568)\n",
      "Processing Speaker0048:  26%|██▌       | 8/31 [00:01<00:04,  5.63it/s][src/libmpg123/layer3.c:INT123_do_layer3():1774] error: part2_3_length (2176) too large for available bit count (1568)\n",
      "Processing Speaker0048:  39%|███▊      | 12/31 [00:02<00:03,  5.42it/s][src/libmpg123/layer3.c:INT123_do_layer3():1774] error: part2_3_length (1792) too large for available bit count (1568)\n",
      "Processing Speaker0048:  58%|█████▊    | 18/31 [00:03<00:02,  5.23it/s][src/libmpg123/layer3.c:INT123_do_layer3():1774] error: part2_3_length (1568) too large for available bit count (1560)\n",
      "Processing Speaker0048:  71%|███████   | 22/31 [00:04<00:01,  5.61it/s][src/libmpg123/layer3.c:INT123_do_layer3():1774] error: part2_3_length (1600) too large for available bit count (1568)\n",
      "Processing Speaker0048:  77%|███████▋  | 24/31 [00:04<00:01,  5.64it/s][src/libmpg123/layer3.c:INT123_do_layer3():1774] error: part2_3_length (1792) too large for available bit count (1568)\n",
      "Processing Speaker0048:  90%|█████████ | 28/31 [00:04<00:00,  6.31it/s][src/libmpg123/layer3.c:INT123_do_layer3():1774] error: part2_3_length (1952) too large for available bit count (1568)\n",
      "Processing Speaker0048:  94%|█████████▎| 29/31 [00:05<00:00,  5.92it/s][src/libmpg123/layer3.c:INT123_do_layer3():1774] error: part2_3_length (2752) too large for available bit count (1568)\n",
      "Processing Speaker0048: 100%|██████████| 31/31 [00:05<00:00,  5.65it/s]\n",
      "Processing Speaker0031: 100%|██████████| 47/47 [00:07<00:00,  5.90it/s]\n",
      "Processing Speaker_0015: 100%|██████████| 38/38 [00:06<00:00,  6.32it/s]\n",
      "Processing Speaker_0020:  10%|█         | 1/10 [00:00<00:01,  5.41it/s][src/libmpg123/layer3.c:INT123_do_layer3():1774] error: part2_3_length (1728) too large for available bit count (1568)\n",
      "Processing Speaker_0020:  40%|████      | 4/10 [00:00<00:01,  5.70it/s][src/libmpg123/layer3.c:INT123_do_layer3():1774] error: part2_3_length (2688) too large for available bit count (1568)\n",
      "Processing Speaker_0020:  80%|████████  | 8/10 [00:01<00:00,  5.47it/s][src/libmpg123/layer3.c:INT123_do_layer3():1774] error: part2_3_length (1664) too large for available bit count (1568)\n",
      "Processing Speaker_0020: 100%|██████████| 10/10 [00:01<00:00,  5.45it/s]\n",
      "Processing Speaker0030: 100%|██████████| 33/33 [00:05<00:00,  5.89it/s]\n",
      "Processing Speaker_0000: 100%|██████████| 93/93 [00:15<00:00,  6.16it/s]\n",
      "Processing Speaker0037: 100%|██████████| 55/55 [00:09<00:00,  5.91it/s]\n",
      "Processing Speaker0047: 100%|██████████| 34/34 [00:05<00:00,  5.89it/s]\n",
      "Processing Speaker_0023: 100%|██████████| 39/39 [00:06<00:00,  6.35it/s]\n",
      "Processing Speaker_0016: 100%|██████████| 48/48 [00:07<00:00,  6.50it/s]\n",
      "Processing Speaker0041: 100%|██████████| 32/32 [00:05<00:00,  5.81it/s]\n",
      "Processing Speaker0038: 100%|██████████| 34/34 [00:05<00:00,  5.99it/s]\n",
      "Processing Speaker_0001: 100%|██████████| 118/118 [00:18<00:00,  6.25it/s]\n",
      "Processing Speaker_0007: 100%|██████████| 62/62 [00:09<00:00,  6.23it/s]\n",
      "Processing Speaker_0019: 100%|██████████| 33/33 [00:05<00:00,  6.27it/s]\n",
      "Processing Speaker0034: 100%|██████████| 34/34 [00:05<00:00,  5.81it/s]\n",
      "Processing Speaker0027: 100%|██████████| 47/47 [00:08<00:00,  5.87it/s]\n",
      "Processing Speaker0033: 100%|██████████| 35/35 [00:05<00:00,  5.93it/s]\n",
      "Processing Speaker0042: 100%|██████████| 41/41 [00:06<00:00,  5.86it/s]\n",
      "Processing Speaker_0009: 100%|██████████| 65/65 [00:10<00:00,  6.24it/s]\n",
      "Processing Speaker0039: 100%|██████████| 51/51 [00:08<00:00,  5.81it/s]\n",
      "Processing Speaker_0021: 100%|██████████| 58/58 [00:09<00:00,  6.21it/s]\n",
      "Processing Speaker_0002: 100%|██████████| 120/120 [00:19<00:00,  6.13it/s]\n"
     ]
    }
   ],
   "source": [
    "\n",
    "# Example usage\n",
    "process_wavs(data_file, speaker_list)"
   ]
  },
  {
   "cell_type": "code",
   "execution_count": 13,
   "id": "85192adf",
   "metadata": {},
   "outputs": [],
   "source": [
    "collection_name=\"speaker_recognition_testing_raw\""
   ]
  },
  {
   "cell_type": "code",
   "execution_count": 16,
   "id": "f8f53267",
   "metadata": {},
   "outputs": [
    {
     "ename": "UnexpectedResponse",
     "evalue": "Unexpected Response: 409 (Conflict)\nRaw response content:\nb'{\"status\":{\"error\":\"Wrong input: Collection `speaker_recognition_testing_raw` already exists!\"},\"time\":0.011504728}'",
     "output_type": "error",
     "traceback": [
      "\u001b[31m---------------------------------------------------------------------------\u001b[39m",
      "\u001b[31mUnexpectedResponse\u001b[39m                        Traceback (most recent call last)",
      "\u001b[36mCell\u001b[39m\u001b[36m \u001b[39m\u001b[32mIn[16]\u001b[39m\u001b[32m, line 2\u001b[39m\n\u001b[32m      1\u001b[39m     \u001b[38;5;66;03m# Define the collection in Qdrant if it doesn't exist\u001b[39;00m\n\u001b[32m----> \u001b[39m\u001b[32m2\u001b[39m \u001b[43mclient\u001b[49m\u001b[43m.\u001b[49m\u001b[43mcreate_collection\u001b[49m\u001b[43m(\u001b[49m\n\u001b[32m      3\u001b[39m \u001b[43m    \u001b[49m\u001b[43mcollection_name\u001b[49m\u001b[43m=\u001b[49m\u001b[43mcollection_name\u001b[49m\u001b[43m,\u001b[49m\n\u001b[32m      4\u001b[39m \u001b[43m    \u001b[49m\u001b[43mvectors_config\u001b[49m\u001b[43m=\u001b[49m\u001b[43mVectorParams\u001b[49m\u001b[43m(\u001b[49m\u001b[43msize\u001b[49m\u001b[43m=\u001b[49m\u001b[32;43m256\u001b[39;49m\u001b[43m,\u001b[49m\u001b[43m \u001b[49m\u001b[43mdistance\u001b[49m\u001b[43m=\u001b[49m\u001b[43mDistance\u001b[49m\u001b[43m.\u001b[49m\u001b[43mCOSINE\u001b[49m\u001b[43m)\u001b[49m\u001b[43m,\u001b[49m\n\u001b[32m      5\u001b[39m \u001b[43m)\u001b[49m\n",
      "\u001b[36mFile \u001b[39m\u001b[32m/data/anaconda3/envs/speech/lib/python3.13/site-packages/qdrant_client/qdrant_client.py:2310\u001b[39m, in \u001b[36mQdrantClient.create_collection\u001b[39m\u001b[34m(self, collection_name, vectors_config, sparse_vectors_config, shard_number, sharding_method, replication_factor, write_consistency_factor, on_disk_payload, hnsw_config, optimizers_config, wal_config, quantization_config, init_from, timeout, strict_mode_config, **kwargs)\u001b[39m\n\u001b[32m   2260\u001b[39m \u001b[38;5;250m\u001b[39m\u001b[33;03m\"\"\"Create empty collection with given parameters\u001b[39;00m\n\u001b[32m   2261\u001b[39m \n\u001b[32m   2262\u001b[39m \u001b[33;03mArgs:\u001b[39;00m\n\u001b[32m   (...)\u001b[39m\u001b[32m   2306\u001b[39m \u001b[33;03m    Operation result\u001b[39;00m\n\u001b[32m   2307\u001b[39m \u001b[33;03m\"\"\"\u001b[39;00m\n\u001b[32m   2308\u001b[39m \u001b[38;5;28;01massert\u001b[39;00m \u001b[38;5;28mlen\u001b[39m(kwargs) == \u001b[32m0\u001b[39m, \u001b[33mf\u001b[39m\u001b[33m\"\u001b[39m\u001b[33mUnknown arguments: \u001b[39m\u001b[38;5;132;01m{\u001b[39;00m\u001b[38;5;28mlist\u001b[39m(kwargs.keys())\u001b[38;5;132;01m}\u001b[39;00m\u001b[33m\"\u001b[39m\n\u001b[32m-> \u001b[39m\u001b[32m2310\u001b[39m \u001b[38;5;28;01mreturn\u001b[39;00m \u001b[38;5;28;43mself\u001b[39;49m\u001b[43m.\u001b[49m\u001b[43m_client\u001b[49m\u001b[43m.\u001b[49m\u001b[43mcreate_collection\u001b[49m\u001b[43m(\u001b[49m\n\u001b[32m   2311\u001b[39m \u001b[43m    \u001b[49m\u001b[43mcollection_name\u001b[49m\u001b[43m=\u001b[49m\u001b[43mcollection_name\u001b[49m\u001b[43m,\u001b[49m\n\u001b[32m   2312\u001b[39m \u001b[43m    \u001b[49m\u001b[43mvectors_config\u001b[49m\u001b[43m=\u001b[49m\u001b[43mvectors_config\u001b[49m\u001b[43m,\u001b[49m\n\u001b[32m   2313\u001b[39m \u001b[43m    \u001b[49m\u001b[43mshard_number\u001b[49m\u001b[43m=\u001b[49m\u001b[43mshard_number\u001b[49m\u001b[43m,\u001b[49m\n\u001b[32m   2314\u001b[39m \u001b[43m    \u001b[49m\u001b[43msharding_method\u001b[49m\u001b[43m=\u001b[49m\u001b[43msharding_method\u001b[49m\u001b[43m,\u001b[49m\n\u001b[32m   2315\u001b[39m \u001b[43m    \u001b[49m\u001b[43mreplication_factor\u001b[49m\u001b[43m=\u001b[49m\u001b[43mreplication_factor\u001b[49m\u001b[43m,\u001b[49m\n\u001b[32m   2316\u001b[39m \u001b[43m    \u001b[49m\u001b[43mwrite_consistency_factor\u001b[49m\u001b[43m=\u001b[49m\u001b[43mwrite_consistency_factor\u001b[49m\u001b[43m,\u001b[49m\n\u001b[32m   2317\u001b[39m \u001b[43m    \u001b[49m\u001b[43mon_disk_payload\u001b[49m\u001b[43m=\u001b[49m\u001b[43mon_disk_payload\u001b[49m\u001b[43m,\u001b[49m\n\u001b[32m   2318\u001b[39m \u001b[43m    \u001b[49m\u001b[43mhnsw_config\u001b[49m\u001b[43m=\u001b[49m\u001b[43mhnsw_config\u001b[49m\u001b[43m,\u001b[49m\n\u001b[32m   2319\u001b[39m \u001b[43m    \u001b[49m\u001b[43moptimizers_config\u001b[49m\u001b[43m=\u001b[49m\u001b[43moptimizers_config\u001b[49m\u001b[43m,\u001b[49m\n\u001b[32m   2320\u001b[39m \u001b[43m    \u001b[49m\u001b[43mwal_config\u001b[49m\u001b[43m=\u001b[49m\u001b[43mwal_config\u001b[49m\u001b[43m,\u001b[49m\n\u001b[32m   2321\u001b[39m \u001b[43m    \u001b[49m\u001b[43mquantization_config\u001b[49m\u001b[43m=\u001b[49m\u001b[43mquantization_config\u001b[49m\u001b[43m,\u001b[49m\n\u001b[32m   2322\u001b[39m \u001b[43m    \u001b[49m\u001b[43minit_from\u001b[49m\u001b[43m=\u001b[49m\u001b[43minit_from\u001b[49m\u001b[43m,\u001b[49m\n\u001b[32m   2323\u001b[39m \u001b[43m    \u001b[49m\u001b[43mtimeout\u001b[49m\u001b[43m=\u001b[49m\u001b[43mtimeout\u001b[49m\u001b[43m,\u001b[49m\n\u001b[32m   2324\u001b[39m \u001b[43m    \u001b[49m\u001b[43msparse_vectors_config\u001b[49m\u001b[43m=\u001b[49m\u001b[43msparse_vectors_config\u001b[49m\u001b[43m,\u001b[49m\n\u001b[32m   2325\u001b[39m \u001b[43m    \u001b[49m\u001b[43mstrict_mode_config\u001b[49m\u001b[43m=\u001b[49m\u001b[43mstrict_mode_config\u001b[49m\u001b[43m,\u001b[49m\n\u001b[32m   2326\u001b[39m \u001b[43m    \u001b[49m\u001b[43m*\u001b[49m\u001b[43m*\u001b[49m\u001b[43mkwargs\u001b[49m\u001b[43m,\u001b[49m\n\u001b[32m   2327\u001b[39m \u001b[43m\u001b[49m\u001b[43m)\u001b[49m\n",
      "\u001b[36mFile \u001b[39m\u001b[32m/data/anaconda3/envs/speech/lib/python3.13/site-packages/qdrant_client/qdrant_remote.py:2810\u001b[39m, in \u001b[36mQdrantRemote.create_collection\u001b[39m\u001b[34m(self, collection_name, vectors_config, shard_number, replication_factor, write_consistency_factor, on_disk_payload, hnsw_config, optimizers_config, wal_config, quantization_config, init_from, timeout, sparse_vectors_config, sharding_method, strict_mode_config, **kwargs)\u001b[39m\n\u001b[32m   2792\u001b[39m     init_from = GrpcToRest.convert_init_from(init_from)\n\u001b[32m   2794\u001b[39m create_collection_request = models.CreateCollection(\n\u001b[32m   2795\u001b[39m     vectors=vectors_config,\n\u001b[32m   2796\u001b[39m     shard_number=shard_number,\n\u001b[32m   (...)\u001b[39m\u001b[32m   2807\u001b[39m     strict_mode_config=strict_mode_config,\n\u001b[32m   2808\u001b[39m )\n\u001b[32m-> \u001b[39m\u001b[32m2810\u001b[39m result: Optional[\u001b[38;5;28mbool\u001b[39m] = \u001b[38;5;28;43mself\u001b[39;49m\u001b[43m.\u001b[49m\u001b[43mhttp\u001b[49m\u001b[43m.\u001b[49m\u001b[43mcollections_api\u001b[49m\u001b[43m.\u001b[49m\u001b[43mcreate_collection\u001b[49m\u001b[43m(\u001b[49m\n\u001b[32m   2811\u001b[39m \u001b[43m    \u001b[49m\u001b[43mcollection_name\u001b[49m\u001b[43m=\u001b[49m\u001b[43mcollection_name\u001b[49m\u001b[43m,\u001b[49m\n\u001b[32m   2812\u001b[39m \u001b[43m    \u001b[49m\u001b[43mcreate_collection\u001b[49m\u001b[43m=\u001b[49m\u001b[43mcreate_collection_request\u001b[49m\u001b[43m,\u001b[49m\n\u001b[32m   2813\u001b[39m \u001b[43m    \u001b[49m\u001b[43mtimeout\u001b[49m\u001b[43m=\u001b[49m\u001b[43mtimeout\u001b[49m\u001b[43m,\u001b[49m\n\u001b[32m   2814\u001b[39m \u001b[43m\u001b[49m\u001b[43m)\u001b[49m.result\n\u001b[32m   2816\u001b[39m \u001b[38;5;28;01massert\u001b[39;00m result \u001b[38;5;129;01mis\u001b[39;00m \u001b[38;5;129;01mnot\u001b[39;00m \u001b[38;5;28;01mNone\u001b[39;00m, \u001b[33m\"\u001b[39m\u001b[33mCreate collection returned None\u001b[39m\u001b[33m\"\u001b[39m\n\u001b[32m   2817\u001b[39m \u001b[38;5;28;01mreturn\u001b[39;00m result\n",
      "\u001b[36mFile \u001b[39m\u001b[32m/data/anaconda3/envs/speech/lib/python3.13/site-packages/qdrant_client/http/api/collections_api.py:294\u001b[39m, in \u001b[36mSyncCollectionsApi.create_collection\u001b[39m\u001b[34m(self, collection_name, timeout, create_collection)\u001b[39m\n\u001b[32m    285\u001b[39m \u001b[38;5;28;01mdef\u001b[39;00m\u001b[38;5;250m \u001b[39m\u001b[34mcreate_collection\u001b[39m(\n\u001b[32m    286\u001b[39m     \u001b[38;5;28mself\u001b[39m,\n\u001b[32m    287\u001b[39m     collection_name: \u001b[38;5;28mstr\u001b[39m,\n\u001b[32m    288\u001b[39m     timeout: \u001b[38;5;28mint\u001b[39m = \u001b[38;5;28;01mNone\u001b[39;00m,\n\u001b[32m    289\u001b[39m     create_collection: m.CreateCollection = \u001b[38;5;28;01mNone\u001b[39;00m,\n\u001b[32m    290\u001b[39m ) -> m.InlineResponse200:\n\u001b[32m    291\u001b[39m \u001b[38;5;250m    \u001b[39m\u001b[33;03m\"\"\"\u001b[39;00m\n\u001b[32m    292\u001b[39m \u001b[33;03m    Create new collection with given parameters\u001b[39;00m\n\u001b[32m    293\u001b[39m \u001b[33;03m    \"\"\"\u001b[39;00m\n\u001b[32m--> \u001b[39m\u001b[32m294\u001b[39m     \u001b[38;5;28;01mreturn\u001b[39;00m \u001b[38;5;28;43mself\u001b[39;49m\u001b[43m.\u001b[49m\u001b[43m_build_for_create_collection\u001b[49m\u001b[43m(\u001b[49m\n\u001b[32m    295\u001b[39m \u001b[43m        \u001b[49m\u001b[43mcollection_name\u001b[49m\u001b[43m=\u001b[49m\u001b[43mcollection_name\u001b[49m\u001b[43m,\u001b[49m\n\u001b[32m    296\u001b[39m \u001b[43m        \u001b[49m\u001b[43mtimeout\u001b[49m\u001b[43m=\u001b[49m\u001b[43mtimeout\u001b[49m\u001b[43m,\u001b[49m\n\u001b[32m    297\u001b[39m \u001b[43m        \u001b[49m\u001b[43mcreate_collection\u001b[49m\u001b[43m=\u001b[49m\u001b[43mcreate_collection\u001b[49m\u001b[43m,\u001b[49m\n\u001b[32m    298\u001b[39m \u001b[43m    \u001b[49m\u001b[43m)\u001b[49m\n",
      "\u001b[36mFile \u001b[39m\u001b[32m/data/anaconda3/envs/speech/lib/python3.13/site-packages/qdrant_client/http/api/collections_api.py:96\u001b[39m, in \u001b[36m_CollectionsApi._build_for_create_collection\u001b[39m\u001b[34m(self, collection_name, timeout, create_collection)\u001b[39m\n\u001b[32m     94\u001b[39m \u001b[38;5;28;01mif\u001b[39;00m \u001b[33m\"\u001b[39m\u001b[33mContent-Type\u001b[39m\u001b[33m\"\u001b[39m \u001b[38;5;129;01mnot\u001b[39;00m \u001b[38;5;129;01min\u001b[39;00m headers:\n\u001b[32m     95\u001b[39m     headers[\u001b[33m\"\u001b[39m\u001b[33mContent-Type\u001b[39m\u001b[33m\"\u001b[39m] = \u001b[33m\"\u001b[39m\u001b[33mapplication/json\u001b[39m\u001b[33m\"\u001b[39m\n\u001b[32m---> \u001b[39m\u001b[32m96\u001b[39m \u001b[38;5;28;01mreturn\u001b[39;00m \u001b[38;5;28;43mself\u001b[39;49m\u001b[43m.\u001b[49m\u001b[43mapi_client\u001b[49m\u001b[43m.\u001b[49m\u001b[43mrequest\u001b[49m\u001b[43m(\u001b[49m\n\u001b[32m     97\u001b[39m \u001b[43m    \u001b[49m\u001b[43mtype_\u001b[49m\u001b[43m=\u001b[49m\u001b[43mm\u001b[49m\u001b[43m.\u001b[49m\u001b[43mInlineResponse200\u001b[49m\u001b[43m,\u001b[49m\n\u001b[32m     98\u001b[39m \u001b[43m    \u001b[49m\u001b[43mmethod\u001b[49m\u001b[43m=\u001b[49m\u001b[33;43m\"\u001b[39;49m\u001b[33;43mPUT\u001b[39;49m\u001b[33;43m\"\u001b[39;49m\u001b[43m,\u001b[49m\n\u001b[32m     99\u001b[39m \u001b[43m    \u001b[49m\u001b[43murl\u001b[49m\u001b[43m=\u001b[49m\u001b[33;43m\"\u001b[39;49m\u001b[33;43m/collections/\u001b[39;49m\u001b[38;5;132;43;01m{collection_name}\u001b[39;49;00m\u001b[33;43m\"\u001b[39;49m\u001b[43m,\u001b[49m\n\u001b[32m    100\u001b[39m \u001b[43m    \u001b[49m\u001b[43mheaders\u001b[49m\u001b[43m=\u001b[49m\u001b[43mheaders\u001b[49m\u001b[43m \u001b[49m\u001b[38;5;28;43;01mif\u001b[39;49;00m\u001b[43m \u001b[49m\u001b[43mheaders\u001b[49m\u001b[43m \u001b[49m\u001b[38;5;28;43;01melse\u001b[39;49;00m\u001b[43m \u001b[49m\u001b[38;5;28;43;01mNone\u001b[39;49;00m\u001b[43m,\u001b[49m\n\u001b[32m    101\u001b[39m \u001b[43m    \u001b[49m\u001b[43mpath_params\u001b[49m\u001b[43m=\u001b[49m\u001b[43mpath_params\u001b[49m\u001b[43m,\u001b[49m\n\u001b[32m    102\u001b[39m \u001b[43m    \u001b[49m\u001b[43mparams\u001b[49m\u001b[43m=\u001b[49m\u001b[43mquery_params\u001b[49m\u001b[43m,\u001b[49m\n\u001b[32m    103\u001b[39m \u001b[43m    \u001b[49m\u001b[43mcontent\u001b[49m\u001b[43m=\u001b[49m\u001b[43mbody\u001b[49m\u001b[43m,\u001b[49m\n\u001b[32m    104\u001b[39m \u001b[43m\u001b[49m\u001b[43m)\u001b[49m\n",
      "\u001b[36mFile \u001b[39m\u001b[32m/data/anaconda3/envs/speech/lib/python3.13/site-packages/qdrant_client/http/api_client.py:89\u001b[39m, in \u001b[36mApiClient.request\u001b[39m\u001b[34m(self, type_, method, url, path_params, **kwargs)\u001b[39m\n\u001b[32m     87\u001b[39m     kwargs[\u001b[33m\"\u001b[39m\u001b[33mtimeout\u001b[39m\u001b[33m\"\u001b[39m] = \u001b[38;5;28mint\u001b[39m(kwargs[\u001b[33m\"\u001b[39m\u001b[33mparams\u001b[39m\u001b[33m\"\u001b[39m][\u001b[33m\"\u001b[39m\u001b[33mtimeout\u001b[39m\u001b[33m\"\u001b[39m])\n\u001b[32m     88\u001b[39m request = \u001b[38;5;28mself\u001b[39m._client.build_request(method, url, **kwargs)\n\u001b[32m---> \u001b[39m\u001b[32m89\u001b[39m \u001b[38;5;28;01mreturn\u001b[39;00m \u001b[38;5;28;43mself\u001b[39;49m\u001b[43m.\u001b[49m\u001b[43msend\u001b[49m\u001b[43m(\u001b[49m\u001b[43mrequest\u001b[49m\u001b[43m,\u001b[49m\u001b[43m \u001b[49m\u001b[43mtype_\u001b[49m\u001b[43m)\u001b[49m\n",
      "\u001b[36mFile \u001b[39m\u001b[32m/data/anaconda3/envs/speech/lib/python3.13/site-packages/qdrant_client/http/api_client.py:112\u001b[39m, in \u001b[36mApiClient.send\u001b[39m\u001b[34m(self, request, type_)\u001b[39m\n\u001b[32m    110\u001b[39m     \u001b[38;5;28;01mexcept\u001b[39;00m ValidationError \u001b[38;5;28;01mas\u001b[39;00m e:\n\u001b[32m    111\u001b[39m         \u001b[38;5;28;01mraise\u001b[39;00m ResponseHandlingException(e)\n\u001b[32m--> \u001b[39m\u001b[32m112\u001b[39m \u001b[38;5;28;01mraise\u001b[39;00m UnexpectedResponse.for_response(response)\n",
      "\u001b[31mUnexpectedResponse\u001b[39m: Unexpected Response: 409 (Conflict)\nRaw response content:\nb'{\"status\":{\"error\":\"Wrong input: Collection `speaker_recognition_testing_raw` already exists!\"},\"time\":0.011504728}'"
     ]
    }
   ],
   "source": [
    "\n",
    "    # Define the collection in Qdrant if it doesn't exist\n",
    "client.create_collection(\n",
    "    collection_name=collection_name,\n",
    "    vectors_config=VectorParams(size=256, distance=Distance.COSINE),\n",
    ")"
   ]
  },
  {
   "cell_type": "code",
   "execution_count": 17,
   "id": "8afc3611",
   "metadata": {},
   "outputs": [
    {
     "data": {
      "text/plain": [
       "(2, 2009)"
      ]
     },
     "execution_count": 17,
     "metadata": {},
     "output_type": "execute_result"
    }
   ],
   "source": [
    "len(embeddings[0][\"payload\"]),embeddings[2008][\"id\"]"
   ]
  },
  {
   "cell_type": "code",
   "execution_count": 18,
   "id": "85a44d10",
   "metadata": {},
   "outputs": [],
   "source": [
    "train_embed,test_embed=train_test_split(embeddings, test_size=0.2, random_state=42)"
   ]
  },
  {
   "cell_type": "code",
   "execution_count": 19,
   "id": "ade4609d",
   "metadata": {},
   "outputs": [],
   "source": [
    "from qdrant_client.models import PointStruct\n",
    "train_points = [\n",
    "    PointStruct(\n",
    "        id=embedding[\"id\"], \n",
    "        vector=embedding[\"vector\"], \n",
    "        payload=embedding.get(\"payload\")\n",
    "    ) \n",
    "    for embedding in train_embed\n",
    "]\n",
    "test_points = [\n",
    "    PointStruct(\n",
    "        id=embedding[\"id\"], \n",
    "        vector=embedding[\"vector\"], \n",
    "        payload=embedding.get(\"payload\")\n",
    "    ) \n",
    "    for embedding in test_embed\n",
    "]"
   ]
  },
  {
   "cell_type": "code",
   "execution_count": 20,
   "id": "a1d9f65b",
   "metadata": {},
   "outputs": [],
   "source": [
    "batch_size = 1000\n",
    "for i in range(0, len(train_points), batch_size):\n",
    "    batch = train_points[i:i + batch_size]\n",
    "    client.upsert(collection_name=collection_name, points=batch)"
   ]
  },
  {
   "cell_type": "code",
   "execution_count": 15,
   "id": "45cdb684",
   "metadata": {},
   "outputs": [
    {
     "name": "stderr",
     "output_type": "stream",
     "text": [
      "/data/anaconda3/envs/speech/lib/python3.13/site-packages/resemblyzer/audio.py:27: UserWarning: PySoundFile failed. Trying audioread instead.\n",
      "  wav, source_sr = librosa.load(str(fpath_or_wav), sr=None)\n",
      "/data/anaconda3/envs/speech/lib/python3.13/site-packages/librosa/core/audio.py:184: FutureWarning: librosa.core.audio.__audioread_load\n",
      "\tDeprecated as of librosa version 0.10.0.\n",
      "\tIt will be removed in librosa version 1.0.\n",
      "  y, sr_native = __audioread_load(path, offset, duration, dtype)\n"
     ]
    },
    {
     "name": "stdout",
     "output_type": "stream",
     "text": [
      "Loaded the voice encoder model on cuda in 0.01 seconds.\n"
     ]
    },
    {
     "name": "stderr",
     "output_type": "stream",
     "text": [
      "/tmp/ipykernel_2170985/2055009604.py:8: DeprecationWarning: `search` method is deprecated and will be removed in the future. Use `query_points` instead.\n",
      "  results = client.search(\"speaker_recognition\", test_embeddings.tolist())\n"
     ]
    },
    {
     "name": "stdout",
     "output_type": "stream",
     "text": [
      "[ScoredPoint(id=36724, version=77, score=0.79123366, payload={'speaker_id': 7, 'speaker_folder': 'Speaker_0007'}, vector=None, shard_key=None, order_value=None), ScoredPoint(id=19130, version=87, score=0.75000334, payload={'speaker_id': 17, 'speaker_folder': 'Speaker_0017'}, vector=None, shard_key=None, order_value=None), ScoredPoint(id=47380, version=56, score=0.71510196, payload={'speaker_id': 4, 'speaker_folder': 'Speaker_0004'}, vector=None, shard_key=None, order_value=None), ScoredPoint(id=36960, version=36, score=0.71390367, payload={'speaker_id': 7, 'speaker_folder': 'Speaker_0007'}, vector=None, shard_key=None, order_value=None), ScoredPoint(id=17423, version=72, score=0.7130449, payload={'speaker_id': 5, 'speaker_folder': 'Speaker_0005'}, vector=None, shard_key=None, order_value=None), ScoredPoint(id=16088, version=85, score=0.70682555, payload={'speaker_id': 5, 'speaker_folder': 'Speaker_0005'}, vector=None, shard_key=None, order_value=None), ScoredPoint(id=36803, version=64, score=0.7066679, payload={'speaker_id': 7, 'speaker_folder': 'Speaker_0007'}, vector=None, shard_key=None, order_value=None), ScoredPoint(id=37150, version=53, score=0.70086277, payload={'speaker_id': 7, 'speaker_folder': 'Speaker_0007'}, vector=None, shard_key=None, order_value=None), ScoredPoint(id=16781, version=53, score=0.69601643, payload={'speaker_id': 5, 'speaker_folder': 'Speaker_0005'}, vector=None, shard_key=None, order_value=None), ScoredPoint(id=36572, version=67, score=0.69353163, payload={'speaker_id': 7, 'speaker_folder': 'Speaker_0007'}, vector=None, shard_key=None, order_value=None)]\n"
     ]
    }
   ],
   "source": [
    "test_wav = preprocess_wav(\"src/Backend/audio.wav\")\n",
    "test_wav2 = preprocess_wav(\"data/processed3/50_speakers_audio_data/Speaker_0000/Speaker_0000_Speaker_0000_00000_chunk0.wav\")\n",
    "# Create a voice encoder object\n",
    "encoder = VoiceEncoder(\"cuda\")\n",
    "test_embeddings = encoder.embed_utterance(test_wav)\n",
    "test_embeddings2 = encoder.embed_utterance(test_wav2)\n",
    "# Search related embeddings\n",
    "results = client.search(\"speaker_recognition\", test_embeddings.tolist())\n",
    "print(results)"
   ]
  },
  {
   "cell_type": "code",
   "execution_count": 13,
   "id": "e3857cb3",
   "metadata": {},
   "outputs": [
    {
     "name": "stdout",
     "output_type": "stream",
     "text": [
      "Cosine Similarity: 0.72377324\n"
     ]
    }
   ],
   "source": [
    "np.dot(np.array(test_wav), np.array(test_wav2))\n",
    "# Calculate cosine similarity\n",
    "cosine_similarity = np.dot(test_embeddings, test_embeddings2) / (np.linalg.norm(test_embeddings) * np.linalg.norm(test_embeddings2))\n",
    "print(\"Cosine Similarity:\", cosine_similarity)"
   ]
  },
  {
   "cell_type": "code",
   "execution_count": 42,
   "id": "3309dd00",
   "metadata": {},
   "outputs": [
    {
     "name": "stderr",
     "output_type": "stream",
     "text": [
      "/tmp/ipykernel_1812508/1427623008.py:6: DeprecationWarning: `search` method is deprecated and will be removed in the future. Use `query_points` instead.\n",
      "  results = client.search(\"speaker_recognition_testing\", embed[\"vector\"])\n"
     ]
    }
   ],
   "source": [
    "correct = 0\n",
    "total = len(test_embed)\n",
    "incorrect = []\n",
    "for embed in test_embed:\n",
    "     # Search related embeddings\n",
    "    results = client.search(\"speaker_recognition_testing\", embed[\"vector\"])\n",
    "    if(len(results) > 0):\n",
    "        if results[0].payload[\"speaker_id\"] == embed[\"payload\"][\"speaker_id\"]:\n",
    "            correct += 1\n",
    "        else :\n",
    "            incorrect.append(embed)"
   ]
  },
  {
   "cell_type": "code",
   "execution_count": 43,
   "id": "3f416fdb",
   "metadata": {},
   "outputs": [
    {
     "data": {
      "text/plain": [
       "(9324, 9755, 0.9558175294720656)"
      ]
     },
     "execution_count": 43,
     "metadata": {},
     "output_type": "execute_result"
    }
   ],
   "source": [
    "correct, total, correct/total"
   ]
  },
  {
   "cell_type": "code",
   "execution_count": 44,
   "id": "03b310ed",
   "metadata": {},
   "outputs": [
    {
     "name": "stdout",
     "output_type": "stream",
     "text": [
      "Accuracy: 95.58%\n"
     ]
    }
   ],
   "source": [
    "print(f\"Accuracy: {correct/total:.2%}\")"
   ]
  },
  {
   "cell_type": "code",
   "execution_count": 21,
   "id": "e81f5ea5",
   "metadata": {},
   "outputs": [
    {
     "name": "stderr",
     "output_type": "stream",
     "text": [
      "/tmp/ipykernel_2170985/2830998579.py:9: DeprecationWarning: `search` method is deprecated and will be removed in the future. Use `query_points` instead.\n",
      "  results = client.search(collection_name, embed[\"vector\"], score_threshold=0.6)\n"
     ]
    },
    {
     "data": {
      "text/plain": [
       "(479, 485, 0.9876288659793815)"
      ]
     },
     "execution_count": 21,
     "metadata": {},
     "output_type": "execute_result"
    }
   ],
   "source": [
    "from collections import Counter\n",
    "\n",
    "\n",
    "correct = 0\n",
    "total = len(test_embed)\n",
    "incorrect = []\n",
    "for embed in test_embed:\n",
    "     # Search related embeddings\n",
    "    results = client.search(collection_name, embed[\"vector\"], score_threshold=0.6)\n",
    "    \n",
    "    # Extract speaker IDs from the top 5 results\n",
    "    top_5_speaker_ids = [result.payload[\"speaker_id\"] for result in results]\n",
    "\n",
    "    # Count the occurrences of each speaker ID\n",
    "    speaker_id_counts = Counter(top_5_speaker_ids)\n",
    "\n",
    "    # Find the speaker ID with the maximum count\n",
    "    most_frequent_speaker_id = speaker_id_counts.most_common(1)[0][0]\n",
    "\n",
    "    if(len(results) > 0):\n",
    "        if most_frequent_speaker_id == embed[\"payload\"][\"speaker_id\"]:\n",
    "            correct += 1\n",
    "        # else :\n",
    "        #     incorrect.append(embed)\n",
    "        \n",
    "correct, total, correct/total"
   ]
  },
  {
   "cell_type": "code",
   "execution_count": 22,
   "id": "a13faf50",
   "metadata": {},
   "outputs": [
    {
     "name": "stdout",
     "output_type": "stream",
     "text": [
      "Accuracy: 98.76%\n"
     ]
    }
   ],
   "source": [
    "print(f\"Accuracy: {correct/total:.2%}\")"
   ]
  },
  {
   "cell_type": "code",
   "execution_count": 64,
   "id": "65234edf",
   "metadata": {},
   "outputs": [
    {
     "name": "stderr",
     "output_type": "stream",
     "text": [
      "/tmp/ipykernel_1812508/861127245.py:9: DeprecationWarning: `search` method is deprecated and will be removed in the future. Use `query_points` instead.\n",
      "  results = client.search(\"speaker_recognition_testing\", embed[\"vector\"], score_threshold=0.6)\n"
     ]
    },
    {
     "name": "stdout",
     "output_type": "stream",
     "text": [
      "Accuracy: 96.38%\n"
     ]
    }
   ],
   "source": [
    "from collections import defaultdict\n",
    "\n",
    "\n",
    "correct = 0\n",
    "total = len(test_embed)\n",
    "incorrect = []\n",
    "for embed in test_embed:\n",
    "     # Search related embeddings\n",
    "    results = client.search(\"speaker_recognition_testing\", embed[\"vector\"], score_threshold=0.6)\n",
    "    \n",
    "    # Group scores by speaker_id\n",
    "    score_sums = defaultdict(float)\n",
    "    for result in results:\n",
    "        speaker_id = result.payload[\"speaker_id\"]\n",
    "        score_sums[speaker_id] += result.score\n",
    "\n",
    "    # Find the speaker_id with the maximum cumulative score\n",
    "    predicted_speaker_id = max(score_sums, key=score_sums.get)\n",
    "\n",
    "    if(len(results) > 0):\n",
    "        if predicted_speaker_id == embed[\"payload\"][\"speaker_id\"]:\n",
    "            correct += 1\n",
    "        # else :\n",
    "        #     incorrect.append(embed)\n",
    "        \n",
    "print(f\"Accuracy: {correct/total:.2%}\")"
   ]
  },
  {
   "cell_type": "code",
   "execution_count": 46,
   "id": "f7917868",
   "metadata": {},
   "outputs": [
    {
     "name": "stderr",
     "output_type": "stream",
     "text": [
      "/tmp/ipykernel_1812508/911448685.py:3: DeprecationWarning: `search` method is deprecated and will be removed in the future. Use `query_points` instead.\n",
      "  results = client.search(\"speaker_recognition_testing\", embed[\"vector\"])\n"
     ]
    },
    {
     "name": "stdout",
     "output_type": "stream",
     "text": [
      "retrived : 4, true: 0\n",
      "retrived : 4, true: 0\n",
      "retrived : 6, true: 2\n",
      "retrived : 6, true: 2\n",
      "retrived : 5, true: 4\n",
      "retrived : 9, true: 2\n",
      "retrived : 4, true: 0\n",
      "retrived : 2, true: 6\n",
      "retrived : 36, true: 45\n",
      "retrived : 4, true: 0\n",
      "retrived : 6, true: 2\n",
      "retrived : 4, true: 0\n",
      "retrived : 6, true: 2\n",
      "retrived : 2, true: 6\n",
      "retrived : 6, true: 2\n",
      "retrived : 2, true: 6\n",
      "retrived : 0, true: 4\n",
      "retrived : 6, true: 2\n",
      "retrived : 6, true: 2\n",
      "retrived : 6, true: 2\n",
      "retrived : 2, true: 6\n",
      "retrived : 0, true: 4\n",
      "retrived : 38, true: 20\n",
      "retrived : 20, true: 38\n",
      "retrived : 20, true: 38\n",
      "retrived : 33, true: 39\n",
      "retrived : 8, true: 6\n",
      "retrived : 6, true: 2\n",
      "retrived : 45, true: 36\n",
      "retrived : 3, true: 39\n",
      "retrived : 6, true: 2\n",
      "retrived : 25, true: 14\n",
      "retrived : 2, true: 6\n",
      "retrived : 2, true: 6\n",
      "retrived : 2, true: 6\n",
      "retrived : 6, true: 2\n",
      "retrived : 2, true: 6\n",
      "retrived : 2, true: 6\n",
      "retrived : 20, true: 38\n",
      "retrived : 6, true: 2\n",
      "retrived : 2, true: 6\n",
      "retrived : 3, true: 4\n",
      "retrived : 2, true: 6\n",
      "retrived : 44, true: 16\n",
      "retrived : 14, true: 3\n",
      "retrived : 6, true: 2\n",
      "retrived : 6, true: 2\n",
      "retrived : 6, true: 2\n",
      "retrived : 0, true: 4\n",
      "retrived : 6, true: 2\n",
      "retrived : 2, true: 6\n",
      "retrived : 6, true: 2\n",
      "retrived : 0, true: 4\n",
      "retrived : 6, true: 2\n",
      "retrived : 6, true: 2\n",
      "retrived : 2, true: 6\n",
      "retrived : 38, true: 20\n",
      "retrived : 6, true: 2\n",
      "retrived : 6, true: 2\n",
      "retrived : 39, true: 33\n",
      "retrived : 44, true: 16\n",
      "retrived : 6, true: 2\n",
      "retrived : 39, true: 33\n",
      "retrived : 6, true: 2\n",
      "retrived : 2, true: 6\n",
      "retrived : 6, true: 2\n",
      "retrived : 16, true: 44\n",
      "retrived : 2, true: 6\n",
      "retrived : 6, true: 2\n",
      "retrived : 6, true: 2\n",
      "retrived : 8, true: 5\n",
      "retrived : 1, true: 0\n",
      "retrived : 6, true: 2\n",
      "retrived : 44, true: 16\n",
      "retrived : 2, true: 6\n",
      "retrived : 16, true: 44\n",
      "retrived : 2, true: 6\n",
      "retrived : 45, true: 36\n",
      "retrived : 2, true: 6\n",
      "retrived : 5, true: 7\n",
      "retrived : 50, true: 7\n",
      "retrived : 2, true: 6\n",
      "retrived : 2, true: 6\n",
      "retrived : 6, true: 2\n",
      "retrived : 6, true: 2\n",
      "retrived : 4, true: 0\n",
      "retrived : 44, true: 16\n",
      "retrived : 33, true: 39\n",
      "retrived : 45, true: 36\n",
      "retrived : 2, true: 6\n",
      "retrived : 38, true: 20\n",
      "retrived : 2, true: 6\n",
      "retrived : 4, true: 0\n",
      "retrived : 33, true: 39\n",
      "retrived : 2, true: 6\n",
      "retrived : 38, true: 20\n",
      "retrived : 6, true: 2\n",
      "retrived : 2, true: 6\n",
      "retrived : 33, true: 39\n",
      "retrived : 2, true: 6\n",
      "retrived : 2, true: 6\n",
      "retrived : 14, true: 44\n",
      "retrived : 5, true: 4\n",
      "retrived : 2, true: 6\n",
      "retrived : 6, true: 2\n",
      "retrived : 2, true: 6\n",
      "retrived : 6, true: 2\n",
      "retrived : 33, true: 39\n",
      "retrived : 6, true: 2\n",
      "retrived : 2, true: 6\n",
      "retrived : 2, true: 6\n",
      "retrived : 2, true: 6\n",
      "retrived : 6, true: 2\n",
      "retrived : 2, true: 6\n",
      "retrived : 6, true: 2\n",
      "retrived : 5, true: 9\n",
      "retrived : 44, true: 16\n",
      "retrived : 4, true: 0\n",
      "retrived : 38, true: 20\n",
      "retrived : 5, true: 0\n",
      "retrived : 2, true: 6\n",
      "retrived : 4, true: 0\n",
      "retrived : 6, true: 2\n",
      "retrived : 6, true: 2\n",
      "retrived : 2, true: 6\n",
      "retrived : 2, true: 6\n",
      "retrived : 5, true: 47\n",
      "retrived : 2, true: 6\n",
      "retrived : 6, true: 2\n",
      "retrived : 6, true: 2\n",
      "retrived : 6, true: 4\n",
      "retrived : 6, true: 2\n",
      "retrived : 5, true: 8\n",
      "retrived : 6, true: 2\n",
      "retrived : 2, true: 6\n",
      "retrived : 6, true: 2\n",
      "retrived : 5, true: 3\n",
      "retrived : 45, true: 36\n",
      "retrived : 6, true: 2\n",
      "retrived : 2, true: 6\n",
      "retrived : 2, true: 6\n",
      "retrived : 6, true: 2\n",
      "retrived : 4, true: 0\n",
      "retrived : 6, true: 2\n",
      "retrived : 6, true: 8\n",
      "retrived : 2, true: 6\n",
      "retrived : 0, true: 4\n",
      "retrived : 6, true: 2\n",
      "retrived : 2, true: 6\n",
      "retrived : 23, true: 32\n",
      "retrived : 38, true: 20\n",
      "retrived : 6, true: 2\n",
      "retrived : 20, true: 38\n",
      "retrived : 44, true: 16\n",
      "retrived : 2, true: 6\n",
      "retrived : 2, true: 6\n",
      "retrived : 45, true: 36\n",
      "retrived : 2, true: 6\n",
      "retrived : 5, true: 4\n",
      "retrived : 6, true: 2\n",
      "retrived : 38, true: 19\n",
      "retrived : 44, true: 16\n",
      "retrived : 2, true: 6\n",
      "retrived : 3, true: 4\n",
      "retrived : 5, true: 0\n",
      "retrived : 2, true: 6\n",
      "retrived : 6, true: 2\n",
      "retrived : 2, true: 6\n",
      "retrived : 0, true: 4\n",
      "retrived : 36, true: 45\n",
      "retrived : 6, true: 2\n",
      "retrived : 5, true: 4\n",
      "retrived : 6, true: 2\n",
      "retrived : 45, true: 36\n",
      "retrived : 4, true: 0\n",
      "retrived : 2, true: 6\n",
      "retrived : 2, true: 6\n",
      "retrived : 6, true: 2\n",
      "retrived : 2, true: 6\n",
      "retrived : 2, true: 6\n",
      "retrived : 6, true: 2\n",
      "retrived : 6, true: 2\n",
      "retrived : 2, true: 6\n",
      "retrived : 32, true: 41\n",
      "retrived : 33, true: 39\n",
      "retrived : 16, true: 44\n",
      "retrived : 2, true: 6\n",
      "retrived : 20, true: 38\n",
      "retrived : 2, true: 6\n",
      "retrived : 2, true: 6\n",
      "retrived : 33, true: 39\n",
      "retrived : 38, true: 20\n",
      "retrived : 6, true: 2\n",
      "retrived : 33, true: 39\n",
      "retrived : 2, true: 6\n",
      "retrived : 2, true: 6\n",
      "retrived : 2, true: 6\n",
      "retrived : 2, true: 6\n",
      "retrived : 2, true: 6\n",
      "retrived : 6, true: 2\n",
      "retrived : 32, true: 21\n",
      "retrived : 2, true: 6\n",
      "retrived : 44, true: 16\n",
      "retrived : 38, true: 20\n",
      "retrived : 2, true: 6\n",
      "retrived : 2, true: 6\n",
      "retrived : 6, true: 2\n",
      "retrived : 2, true: 6\n",
      "retrived : 6, true: 2\n",
      "retrived : 2, true: 6\n",
      "retrived : 33, true: 39\n",
      "retrived : 6, true: 2\n",
      "retrived : 6, true: 2\n",
      "retrived : 44, true: 16\n",
      "retrived : 2, true: 6\n",
      "retrived : 31, true: 32\n",
      "retrived : 2, true: 6\n",
      "retrived : 38, true: 20\n",
      "retrived : 38, true: 20\n",
      "retrived : 6, true: 2\n",
      "retrived : 38, true: 20\n",
      "retrived : 39, true: 33\n",
      "retrived : 45, true: 36\n",
      "retrived : 5, true: 7\n",
      "retrived : 2, true: 6\n",
      "retrived : 6, true: 2\n",
      "retrived : 2, true: 6\n",
      "retrived : 3, true: 6\n",
      "retrived : 2, true: 6\n",
      "retrived : 3, true: 1\n",
      "retrived : 6, true: 2\n",
      "retrived : 10, true: 41\n",
      "retrived : 2, true: 6\n",
      "retrived : 2, true: 6\n",
      "retrived : 2, true: 6\n",
      "retrived : 44, true: 16\n",
      "retrived : 2, true: 6\n",
      "retrived : 4, true: 0\n",
      "retrived : 2, true: 6\n",
      "retrived : 6, true: 2\n",
      "retrived : 2, true: 6\n",
      "retrived : 5, true: 47\n",
      "retrived : 4, true: 0\n",
      "retrived : 2, true: 6\n",
      "retrived : 44, true: 16\n",
      "retrived : 2, true: 6\n",
      "retrived : 2, true: 6\n",
      "retrived : 2, true: 6\n",
      "retrived : 2, true: 6\n",
      "retrived : 16, true: 44\n",
      "retrived : 2, true: 6\n",
      "retrived : 2, true: 6\n",
      "retrived : 2, true: 6\n",
      "retrived : 2, true: 6\n",
      "retrived : 38, true: 20\n",
      "retrived : 26, true: 6\n",
      "retrived : 2, true: 6\n",
      "retrived : 2, true: 6\n",
      "retrived : 6, true: 2\n",
      "retrived : 38, true: 20\n",
      "retrived : 4, true: 0\n",
      "retrived : 2, true: 6\n",
      "retrived : 33, true: 39\n",
      "retrived : 6, true: 2\n",
      "retrived : 6, true: 2\n",
      "retrived : 2, true: 6\n",
      "retrived : 0, true: 4\n",
      "retrived : 2, true: 6\n",
      "retrived : 1, true: 0\n",
      "retrived : 2, true: 6\n",
      "retrived : 6, true: 2\n",
      "retrived : 6, true: 2\n",
      "retrived : 2, true: 6\n",
      "retrived : 45, true: 36\n",
      "retrived : 2, true: 6\n",
      "retrived : 6, true: 2\n",
      "retrived : 4, true: 0\n",
      "retrived : 2, true: 6\n",
      "retrived : 5, true: 47\n",
      "retrived : 6, true: 2\n",
      "retrived : 4, true: 0\n",
      "retrived : 6, true: 2\n",
      "retrived : 38, true: 20\n",
      "retrived : 2, true: 6\n",
      "retrived : 2, true: 6\n",
      "retrived : 2, true: 6\n",
      "retrived : 2, true: 6\n",
      "retrived : 2, true: 6\n",
      "retrived : 6, true: 2\n",
      "retrived : 6, true: 2\n",
      "retrived : 6, true: 2\n",
      "retrived : 2, true: 6\n",
      "retrived : 20, true: 38\n",
      "retrived : 2, true: 6\n",
      "retrived : 2, true: 6\n",
      "retrived : 2, true: 6\n",
      "retrived : 6, true: 2\n",
      "retrived : 6, true: 2\n",
      "retrived : 5, true: 14\n",
      "retrived : 33, true: 39\n",
      "retrived : 6, true: 2\n",
      "retrived : 6, true: 2\n",
      "retrived : 2, true: 6\n",
      "retrived : 6, true: 2\n",
      "retrived : 2, true: 6\n",
      "retrived : 2, true: 6\n",
      "retrived : 45, true: 36\n",
      "retrived : 36, true: 45\n",
      "retrived : 5, true: 4\n",
      "retrived : 6, true: 2\n",
      "retrived : 44, true: 16\n",
      "retrived : 2, true: 6\n",
      "retrived : 38, true: 20\n",
      "retrived : 4, true: 0\n",
      "retrived : 2, true: 6\n",
      "retrived : 12, true: 31\n",
      "retrived : 45, true: 31\n",
      "retrived : 4, true: 0\n",
      "retrived : 2, true: 6\n",
      "retrived : 2, true: 6\n",
      "retrived : 6, true: 2\n",
      "retrived : 6, true: 2\n",
      "retrived : 15, true: 41\n",
      "retrived : 2, true: 6\n",
      "retrived : 2, true: 6\n",
      "retrived : 2, true: 6\n",
      "retrived : 44, true: 16\n",
      "retrived : 6, true: 2\n",
      "retrived : 6, true: 2\n",
      "retrived : 3, true: 1\n",
      "retrived : 6, true: 2\n",
      "retrived : 33, true: 39\n",
      "retrived : 6, true: 2\n",
      "retrived : 36, true: 45\n",
      "retrived : 0, true: 4\n",
      "retrived : 6, true: 2\n",
      "retrived : 2, true: 6\n",
      "retrived : 6, true: 2\n",
      "retrived : 2, true: 6\n",
      "retrived : 6, true: 2\n",
      "retrived : 0, true: 4\n",
      "retrived : 5, true: 18\n",
      "retrived : 45, true: 36\n",
      "retrived : 30, true: 13\n",
      "retrived : 3, true: 4\n",
      "retrived : 3, true: 1\n",
      "retrived : 6, true: 2\n",
      "retrived : 2, true: 6\n",
      "retrived : 6, true: 2\n",
      "retrived : 6, true: 2\n",
      "retrived : 2, true: 6\n",
      "retrived : 6, true: 2\n",
      "retrived : 5, true: 3\n",
      "retrived : 6, true: 2\n",
      "retrived : 6, true: 2\n",
      "retrived : 6, true: 2\n",
      "retrived : 6, true: 2\n",
      "retrived : 2, true: 6\n",
      "retrived : 6, true: 2\n",
      "retrived : 6, true: 2\n",
      "retrived : 6, true: 2\n",
      "retrived : 0, true: 4\n",
      "retrived : 2, true: 6\n",
      "retrived : 2, true: 6\n",
      "retrived : 6, true: 2\n",
      "retrived : 0, true: 4\n",
      "retrived : 2, true: 6\n",
      "retrived : 2, true: 6\n",
      "retrived : 2, true: 6\n",
      "retrived : 2, true: 6\n",
      "retrived : 6, true: 2\n",
      "retrived : 2, true: 6\n",
      "retrived : 1, true: 3\n",
      "retrived : 4, true: 0\n",
      "retrived : 2, true: 6\n",
      "retrived : 5, true: 8\n",
      "retrived : 38, true: 20\n",
      "retrived : 38, true: 20\n",
      "retrived : 2, true: 6\n",
      "retrived : 3, true: 5\n",
      "retrived : 6, true: 2\n",
      "retrived : 20, true: 38\n",
      "retrived : 2, true: 6\n",
      "retrived : 33, true: 39\n",
      "retrived : 38, true: 20\n",
      "retrived : 2, true: 6\n",
      "retrived : 2, true: 6\n",
      "retrived : 2, true: 6\n",
      "retrived : 6, true: 2\n",
      "retrived : 0, true: 4\n",
      "retrived : 6, true: 2\n",
      "retrived : 30, true: 24\n",
      "retrived : 2, true: 6\n",
      "retrived : 2, true: 6\n",
      "retrived : 6, true: 2\n",
      "retrived : 6, true: 2\n",
      "retrived : 47, true: 46\n",
      "retrived : 5, true: 7\n",
      "retrived : 2, true: 6\n",
      "retrived : 6, true: 2\n",
      "retrived : 6, true: 2\n",
      "retrived : 6, true: 2\n",
      "retrived : 2, true: 6\n",
      "retrived : 2, true: 6\n",
      "retrived : 6, true: 2\n",
      "retrived : 2, true: 6\n",
      "retrived : 4, true: 0\n",
      "retrived : 2, true: 6\n",
      "retrived : 33, true: 39\n",
      "retrived : 2, true: 6\n",
      "retrived : 2, true: 6\n",
      "retrived : 6, true: 2\n",
      "retrived : 40, true: 41\n",
      "retrived : 44, true: 16\n",
      "retrived : 33, true: 39\n",
      "retrived : 6, true: 2\n",
      "retrived : 2, true: 6\n",
      "retrived : 5, true: 26\n",
      "retrived : 2, true: 6\n",
      "retrived : 2, true: 6\n",
      "retrived : 6, true: 2\n",
      "retrived : 6, true: 2\n",
      "retrived : 6, true: 2\n",
      "retrived : 44, true: 16\n",
      "retrived : 2, true: 6\n",
      "retrived : 38, true: 20\n",
      "retrived : 16, true: 44\n",
      "retrived : 6, true: 2\n",
      "retrived : 2, true: 6\n",
      "retrived : 2, true: 6\n",
      "retrived : 39, true: 33\n"
     ]
    }
   ],
   "source": [
    "for embed in incorrect:\n",
    "     # Search related embeddings\n",
    "    results = client.search(\"speaker_recognition_testing\", embed[\"vector\"])\n",
    "    print(f\"retrived : {results[0].payload[\"speaker_id\"]}, true: {embed[\"payload\"][\"speaker_id\"]}\")"
   ]
  },
  {
   "cell_type": "code",
   "execution_count": 37,
   "id": "58dc57cc",
   "metadata": {},
   "outputs": [
    {
     "name": "stderr",
     "output_type": "stream",
     "text": [
      "/tmp/ipykernel_1812508/355063134.py:1: DeprecationWarning: `search` method is deprecated and will be removed in the future. Use `query_points` instead.\n",
      "  results = client.search(\"speaker_recognition_testing\", np.array(embed[\"vector\"]))\n"
     ]
    }
   ],
   "source": [
    "results = client.search(\"speaker_recognition_testing\", np.array(embed[\"vector\"]))"
   ]
  },
  {
   "cell_type": "code",
   "execution_count": 38,
   "id": "5da242e4",
   "metadata": {},
   "outputs": [
    {
     "data": {
      "text/plain": [
       "[ScoredPoint(id=25713, version=37, score=0.89749545, payload={'speaker_id': 31, 'speaker_folder': 'Speaker0031'}, vector=None, shard_key=None, order_value=None),\n",
       " ScoredPoint(id=25311, version=9, score=0.8848518, payload={'speaker_id': 31, 'speaker_folder': 'Speaker0031'}, vector=None, shard_key=None, order_value=None),\n",
       " ScoredPoint(id=25898, version=13, score=0.8843004, payload={'speaker_id': 31, 'speaker_folder': 'Speaker0031'}, vector=None, shard_key=None, order_value=None),\n",
       " ScoredPoint(id=25824, version=23, score=0.88186425, payload={'speaker_id': 31, 'speaker_folder': 'Speaker0031'}, vector=None, shard_key=None, order_value=None),\n",
       " ScoredPoint(id=25567, version=33, score=0.8786396, payload={'speaker_id': 31, 'speaker_folder': 'Speaker0031'}, vector=None, shard_key=None, order_value=None),\n",
       " ScoredPoint(id=25380, version=16, score=0.8781756, payload={'speaker_id': 31, 'speaker_folder': 'Speaker0031'}, vector=None, shard_key=None, order_value=None),\n",
       " ScoredPoint(id=25732, version=38, score=0.87758607, payload={'speaker_id': 31, 'speaker_folder': 'Speaker0031'}, vector=None, shard_key=None, order_value=None),\n",
       " ScoredPoint(id=25134, version=15, score=0.87723625, payload={'speaker_id': 31, 'speaker_folder': 'Speaker0031'}, vector=None, shard_key=None, order_value=None),\n",
       " ScoredPoint(id=25798, version=5, score=0.8771347, payload={'speaker_id': 31, 'speaker_folder': 'Speaker0031'}, vector=None, shard_key=None, order_value=None),\n",
       " ScoredPoint(id=25686, version=26, score=0.87472767, payload={'speaker_id': 31, 'speaker_folder': 'Speaker0031'}, vector=None, shard_key=None, order_value=None)]"
      ]
     },
     "execution_count": 38,
     "metadata": {},
     "output_type": "execute_result"
    }
   ],
   "source": [
    "results"
   ]
  },
  {
   "cell_type": "code",
   "execution_count": 1,
   "id": "5f332fa3",
   "metadata": {},
   "outputs": [],
   "source": [
    "from resemblyzer import preprocess_wav, VoiceEncoder\n",
    "from qdrant_client import QdrantClient\n",
    "from collections import Counter\n",
    "\n",
    "\n",
    "def pred_speaker(wav_path: str, collection_name: str = \"speaker_recognition_testing\",url: str = \"http://localhost:6333\"): \n",
    "    client = QdrantClient(url=url)\n",
    "    encoder = VoiceEncoder(\"cuda\")\n",
    "    test_wav = preprocess_wav(wav_path)\n",
    "    test_embeddings = encoder.embed_utterance(test_wav)\n",
    "    results = client.search(collection_name, test_embeddings, score_threshold=0.6)\n",
    "    top_5_speaker_ids = [result.payload[\"speaker_id\"] for result in results]\n",
    "    speaker_id_counts = Counter(top_5_speaker_ids)\n",
    "    most_frequent_speaker_id = speaker_id_counts.most_common(1)[0][0]\n",
    "    return most_frequent_speaker_id\n"
   ]
  },
  {
   "cell_type": "code",
   "execution_count": 2,
   "id": "6faf74a4",
   "metadata": {},
   "outputs": [
    {
     "name": "stdout",
     "output_type": "stream",
     "text": [
      "Loaded the voice encoder model on cuda in 6.08 seconds.\n"
     ]
    },
    {
     "name": "stderr",
     "output_type": "stream",
     "text": [
      "/tmp/ipykernel_441694/3167145769.py:11: DeprecationWarning: `search` method is deprecated and will be removed in the future. Use `query_points` instead.\n",
      "  results = client.search(collection_name, test_embeddings, score_threshold=0.6)\n"
     ]
    },
    {
     "ename": "ResponseHandlingException",
     "evalue": "[Errno 111] Connection refused",
     "output_type": "error",
     "traceback": [
      "\u001b[31m---------------------------------------------------------------------------\u001b[39m",
      "\u001b[31mConnectError\u001b[39m                              Traceback (most recent call last)",
      "\u001b[36mFile \u001b[39m\u001b[32m/data/anaconda3/envs/speech/lib/python3.13/site-packages/httpx/_transports/default.py:101\u001b[39m, in \u001b[36mmap_httpcore_exceptions\u001b[39m\u001b[34m()\u001b[39m\n\u001b[32m    100\u001b[39m \u001b[38;5;28;01mtry\u001b[39;00m:\n\u001b[32m--> \u001b[39m\u001b[32m101\u001b[39m     \u001b[38;5;28;01myield\u001b[39;00m\n\u001b[32m    102\u001b[39m \u001b[38;5;28;01mexcept\u001b[39;00m \u001b[38;5;167;01mException\u001b[39;00m \u001b[38;5;28;01mas\u001b[39;00m exc:\n",
      "\u001b[36mFile \u001b[39m\u001b[32m/data/anaconda3/envs/speech/lib/python3.13/site-packages/httpx/_transports/default.py:250\u001b[39m, in \u001b[36mHTTPTransport.handle_request\u001b[39m\u001b[34m(self, request)\u001b[39m\n\u001b[32m    249\u001b[39m \u001b[38;5;28;01mwith\u001b[39;00m map_httpcore_exceptions():\n\u001b[32m--> \u001b[39m\u001b[32m250\u001b[39m     resp = \u001b[38;5;28;43mself\u001b[39;49m\u001b[43m.\u001b[49m\u001b[43m_pool\u001b[49m\u001b[43m.\u001b[49m\u001b[43mhandle_request\u001b[49m\u001b[43m(\u001b[49m\u001b[43mreq\u001b[49m\u001b[43m)\u001b[49m\n\u001b[32m    252\u001b[39m \u001b[38;5;28;01massert\u001b[39;00m \u001b[38;5;28misinstance\u001b[39m(resp.stream, typing.Iterable)\n",
      "\u001b[36mFile \u001b[39m\u001b[32m/data/anaconda3/envs/speech/lib/python3.13/site-packages/httpcore/_sync/connection_pool.py:256\u001b[39m, in \u001b[36mConnectionPool.handle_request\u001b[39m\u001b[34m(self, request)\u001b[39m\n\u001b[32m    255\u001b[39m     \u001b[38;5;28mself\u001b[39m._close_connections(closing)\n\u001b[32m--> \u001b[39m\u001b[32m256\u001b[39m     \u001b[38;5;28;01mraise\u001b[39;00m exc \u001b[38;5;28;01mfrom\u001b[39;00m\u001b[38;5;250m \u001b[39m\u001b[38;5;28;01mNone\u001b[39;00m\n\u001b[32m    258\u001b[39m \u001b[38;5;66;03m# Return the response. Note that in this case we still have to manage\u001b[39;00m\n\u001b[32m    259\u001b[39m \u001b[38;5;66;03m# the point at which the response is closed.\u001b[39;00m\n",
      "\u001b[36mFile \u001b[39m\u001b[32m/data/anaconda3/envs/speech/lib/python3.13/site-packages/httpcore/_sync/connection_pool.py:236\u001b[39m, in \u001b[36mConnectionPool.handle_request\u001b[39m\u001b[34m(self, request)\u001b[39m\n\u001b[32m    234\u001b[39m \u001b[38;5;28;01mtry\u001b[39;00m:\n\u001b[32m    235\u001b[39m     \u001b[38;5;66;03m# Send the request on the assigned connection.\u001b[39;00m\n\u001b[32m--> \u001b[39m\u001b[32m236\u001b[39m     response = \u001b[43mconnection\u001b[49m\u001b[43m.\u001b[49m\u001b[43mhandle_request\u001b[49m\u001b[43m(\u001b[49m\n\u001b[32m    237\u001b[39m \u001b[43m        \u001b[49m\u001b[43mpool_request\u001b[49m\u001b[43m.\u001b[49m\u001b[43mrequest\u001b[49m\n\u001b[32m    238\u001b[39m \u001b[43m    \u001b[49m\u001b[43m)\u001b[49m\n\u001b[32m    239\u001b[39m \u001b[38;5;28;01mexcept\u001b[39;00m ConnectionNotAvailable:\n\u001b[32m    240\u001b[39m     \u001b[38;5;66;03m# In some cases a connection may initially be available to\u001b[39;00m\n\u001b[32m    241\u001b[39m     \u001b[38;5;66;03m# handle a request, but then become unavailable.\u001b[39;00m\n\u001b[32m    242\u001b[39m     \u001b[38;5;66;03m#\u001b[39;00m\n\u001b[32m    243\u001b[39m     \u001b[38;5;66;03m# In this case we clear the connection and try again.\u001b[39;00m\n",
      "\u001b[36mFile \u001b[39m\u001b[32m/data/anaconda3/envs/speech/lib/python3.13/site-packages/httpcore/_sync/connection.py:101\u001b[39m, in \u001b[36mHTTPConnection.handle_request\u001b[39m\u001b[34m(self, request)\u001b[39m\n\u001b[32m    100\u001b[39m     \u001b[38;5;28mself\u001b[39m._connect_failed = \u001b[38;5;28;01mTrue\u001b[39;00m\n\u001b[32m--> \u001b[39m\u001b[32m101\u001b[39m     \u001b[38;5;28;01mraise\u001b[39;00m exc\n\u001b[32m    103\u001b[39m \u001b[38;5;28;01mreturn\u001b[39;00m \u001b[38;5;28mself\u001b[39m._connection.handle_request(request)\n",
      "\u001b[36mFile \u001b[39m\u001b[32m/data/anaconda3/envs/speech/lib/python3.13/site-packages/httpcore/_sync/connection.py:78\u001b[39m, in \u001b[36mHTTPConnection.handle_request\u001b[39m\u001b[34m(self, request)\u001b[39m\n\u001b[32m     77\u001b[39m \u001b[38;5;28;01mif\u001b[39;00m \u001b[38;5;28mself\u001b[39m._connection \u001b[38;5;129;01mis\u001b[39;00m \u001b[38;5;28;01mNone\u001b[39;00m:\n\u001b[32m---> \u001b[39m\u001b[32m78\u001b[39m     stream = \u001b[38;5;28;43mself\u001b[39;49m\u001b[43m.\u001b[49m\u001b[43m_connect\u001b[49m\u001b[43m(\u001b[49m\u001b[43mrequest\u001b[49m\u001b[43m)\u001b[49m\n\u001b[32m     80\u001b[39m     ssl_object = stream.get_extra_info(\u001b[33m\"\u001b[39m\u001b[33mssl_object\u001b[39m\u001b[33m\"\u001b[39m)\n",
      "\u001b[36mFile \u001b[39m\u001b[32m/data/anaconda3/envs/speech/lib/python3.13/site-packages/httpcore/_sync/connection.py:124\u001b[39m, in \u001b[36mHTTPConnection._connect\u001b[39m\u001b[34m(self, request)\u001b[39m\n\u001b[32m    123\u001b[39m \u001b[38;5;28;01mwith\u001b[39;00m Trace(\u001b[33m\"\u001b[39m\u001b[33mconnect_tcp\u001b[39m\u001b[33m\"\u001b[39m, logger, request, kwargs) \u001b[38;5;28;01mas\u001b[39;00m trace:\n\u001b[32m--> \u001b[39m\u001b[32m124\u001b[39m     stream = \u001b[38;5;28;43mself\u001b[39;49m\u001b[43m.\u001b[49m\u001b[43m_network_backend\u001b[49m\u001b[43m.\u001b[49m\u001b[43mconnect_tcp\u001b[49m\u001b[43m(\u001b[49m\u001b[43m*\u001b[49m\u001b[43m*\u001b[49m\u001b[43mkwargs\u001b[49m\u001b[43m)\u001b[49m\n\u001b[32m    125\u001b[39m     trace.return_value = stream\n",
      "\u001b[36mFile \u001b[39m\u001b[32m/data/anaconda3/envs/speech/lib/python3.13/site-packages/httpcore/_backends/sync.py:207\u001b[39m, in \u001b[36mSyncBackend.connect_tcp\u001b[39m\u001b[34m(self, host, port, timeout, local_address, socket_options)\u001b[39m\n\u001b[32m    202\u001b[39m exc_map: ExceptionMapping = {\n\u001b[32m    203\u001b[39m     socket.timeout: ConnectTimeout,\n\u001b[32m    204\u001b[39m     \u001b[38;5;167;01mOSError\u001b[39;00m: ConnectError,\n\u001b[32m    205\u001b[39m }\n\u001b[32m--> \u001b[39m\u001b[32m207\u001b[39m \u001b[38;5;28;01mwith\u001b[39;00m map_exceptions(exc_map):\n\u001b[32m    208\u001b[39m     sock = socket.create_connection(\n\u001b[32m    209\u001b[39m         address,\n\u001b[32m    210\u001b[39m         timeout,\n\u001b[32m    211\u001b[39m         source_address=source_address,\n\u001b[32m    212\u001b[39m     )\n",
      "\u001b[36mFile \u001b[39m\u001b[32m/data/anaconda3/envs/speech/lib/python3.13/contextlib.py:162\u001b[39m, in \u001b[36m_GeneratorContextManager.__exit__\u001b[39m\u001b[34m(self, typ, value, traceback)\u001b[39m\n\u001b[32m    161\u001b[39m \u001b[38;5;28;01mtry\u001b[39;00m:\n\u001b[32m--> \u001b[39m\u001b[32m162\u001b[39m     \u001b[38;5;28;43mself\u001b[39;49m\u001b[43m.\u001b[49m\u001b[43mgen\u001b[49m\u001b[43m.\u001b[49m\u001b[43mthrow\u001b[49m\u001b[43m(\u001b[49m\u001b[43mvalue\u001b[49m\u001b[43m)\u001b[49m\n\u001b[32m    163\u001b[39m \u001b[38;5;28;01mexcept\u001b[39;00m \u001b[38;5;167;01mStopIteration\u001b[39;00m \u001b[38;5;28;01mas\u001b[39;00m exc:\n\u001b[32m    164\u001b[39m     \u001b[38;5;66;03m# Suppress StopIteration *unless* it's the same exception that\u001b[39;00m\n\u001b[32m    165\u001b[39m     \u001b[38;5;66;03m# was passed to throw().  This prevents a StopIteration\u001b[39;00m\n\u001b[32m    166\u001b[39m     \u001b[38;5;66;03m# raised inside the \"with\" statement from being suppressed.\u001b[39;00m\n",
      "\u001b[36mFile \u001b[39m\u001b[32m/data/anaconda3/envs/speech/lib/python3.13/site-packages/httpcore/_exceptions.py:14\u001b[39m, in \u001b[36mmap_exceptions\u001b[39m\u001b[34m(map)\u001b[39m\n\u001b[32m     13\u001b[39m     \u001b[38;5;28;01mif\u001b[39;00m \u001b[38;5;28misinstance\u001b[39m(exc, from_exc):\n\u001b[32m---> \u001b[39m\u001b[32m14\u001b[39m         \u001b[38;5;28;01mraise\u001b[39;00m to_exc(exc) \u001b[38;5;28;01mfrom\u001b[39;00m\u001b[38;5;250m \u001b[39m\u001b[34;01mexc\u001b[39;00m\n\u001b[32m     15\u001b[39m \u001b[38;5;28;01mraise\u001b[39;00m\n",
      "\u001b[31mConnectError\u001b[39m: [Errno 111] Connection refused",
      "\nThe above exception was the direct cause of the following exception:\n",
      "\u001b[31mConnectError\u001b[39m                              Traceback (most recent call last)",
      "\u001b[36mFile \u001b[39m\u001b[32m/data/anaconda3/envs/speech/lib/python3.13/site-packages/qdrant_client/http/api_client.py:116\u001b[39m, in \u001b[36mApiClient.send_inner\u001b[39m\u001b[34m(self, request)\u001b[39m\n\u001b[32m    115\u001b[39m \u001b[38;5;28;01mtry\u001b[39;00m:\n\u001b[32m--> \u001b[39m\u001b[32m116\u001b[39m     response = \u001b[38;5;28;43mself\u001b[39;49m\u001b[43m.\u001b[49m\u001b[43m_client\u001b[49m\u001b[43m.\u001b[49m\u001b[43msend\u001b[49m\u001b[43m(\u001b[49m\u001b[43mrequest\u001b[49m\u001b[43m)\u001b[49m\n\u001b[32m    117\u001b[39m \u001b[38;5;28;01mexcept\u001b[39;00m \u001b[38;5;167;01mException\u001b[39;00m \u001b[38;5;28;01mas\u001b[39;00m e:\n",
      "\u001b[36mFile \u001b[39m\u001b[32m/data/anaconda3/envs/speech/lib/python3.13/site-packages/httpx/_client.py:914\u001b[39m, in \u001b[36mClient.send\u001b[39m\u001b[34m(self, request, stream, auth, follow_redirects)\u001b[39m\n\u001b[32m    912\u001b[39m auth = \u001b[38;5;28mself\u001b[39m._build_request_auth(request, auth)\n\u001b[32m--> \u001b[39m\u001b[32m914\u001b[39m response = \u001b[38;5;28;43mself\u001b[39;49m\u001b[43m.\u001b[49m\u001b[43m_send_handling_auth\u001b[49m\u001b[43m(\u001b[49m\n\u001b[32m    915\u001b[39m \u001b[43m    \u001b[49m\u001b[43mrequest\u001b[49m\u001b[43m,\u001b[49m\n\u001b[32m    916\u001b[39m \u001b[43m    \u001b[49m\u001b[43mauth\u001b[49m\u001b[43m=\u001b[49m\u001b[43mauth\u001b[49m\u001b[43m,\u001b[49m\n\u001b[32m    917\u001b[39m \u001b[43m    \u001b[49m\u001b[43mfollow_redirects\u001b[49m\u001b[43m=\u001b[49m\u001b[43mfollow_redirects\u001b[49m\u001b[43m,\u001b[49m\n\u001b[32m    918\u001b[39m \u001b[43m    \u001b[49m\u001b[43mhistory\u001b[49m\u001b[43m=\u001b[49m\u001b[43m[\u001b[49m\u001b[43m]\u001b[49m\u001b[43m,\u001b[49m\n\u001b[32m    919\u001b[39m \u001b[43m\u001b[49m\u001b[43m)\u001b[49m\n\u001b[32m    920\u001b[39m \u001b[38;5;28;01mtry\u001b[39;00m:\n",
      "\u001b[36mFile \u001b[39m\u001b[32m/data/anaconda3/envs/speech/lib/python3.13/site-packages/httpx/_client.py:942\u001b[39m, in \u001b[36mClient._send_handling_auth\u001b[39m\u001b[34m(self, request, auth, follow_redirects, history)\u001b[39m\n\u001b[32m    941\u001b[39m \u001b[38;5;28;01mwhile\u001b[39;00m \u001b[38;5;28;01mTrue\u001b[39;00m:\n\u001b[32m--> \u001b[39m\u001b[32m942\u001b[39m     response = \u001b[38;5;28;43mself\u001b[39;49m\u001b[43m.\u001b[49m\u001b[43m_send_handling_redirects\u001b[49m\u001b[43m(\u001b[49m\n\u001b[32m    943\u001b[39m \u001b[43m        \u001b[49m\u001b[43mrequest\u001b[49m\u001b[43m,\u001b[49m\n\u001b[32m    944\u001b[39m \u001b[43m        \u001b[49m\u001b[43mfollow_redirects\u001b[49m\u001b[43m=\u001b[49m\u001b[43mfollow_redirects\u001b[49m\u001b[43m,\u001b[49m\n\u001b[32m    945\u001b[39m \u001b[43m        \u001b[49m\u001b[43mhistory\u001b[49m\u001b[43m=\u001b[49m\u001b[43mhistory\u001b[49m\u001b[43m,\u001b[49m\n\u001b[32m    946\u001b[39m \u001b[43m    \u001b[49m\u001b[43m)\u001b[49m\n\u001b[32m    947\u001b[39m     \u001b[38;5;28;01mtry\u001b[39;00m:\n",
      "\u001b[36mFile \u001b[39m\u001b[32m/data/anaconda3/envs/speech/lib/python3.13/site-packages/httpx/_client.py:979\u001b[39m, in \u001b[36mClient._send_handling_redirects\u001b[39m\u001b[34m(self, request, follow_redirects, history)\u001b[39m\n\u001b[32m    977\u001b[39m     hook(request)\n\u001b[32m--> \u001b[39m\u001b[32m979\u001b[39m response = \u001b[38;5;28;43mself\u001b[39;49m\u001b[43m.\u001b[49m\u001b[43m_send_single_request\u001b[49m\u001b[43m(\u001b[49m\u001b[43mrequest\u001b[49m\u001b[43m)\u001b[49m\n\u001b[32m    980\u001b[39m \u001b[38;5;28;01mtry\u001b[39;00m:\n",
      "\u001b[36mFile \u001b[39m\u001b[32m/data/anaconda3/envs/speech/lib/python3.13/site-packages/httpx/_client.py:1014\u001b[39m, in \u001b[36mClient._send_single_request\u001b[39m\u001b[34m(self, request)\u001b[39m\n\u001b[32m   1013\u001b[39m \u001b[38;5;28;01mwith\u001b[39;00m request_context(request=request):\n\u001b[32m-> \u001b[39m\u001b[32m1014\u001b[39m     response = \u001b[43mtransport\u001b[49m\u001b[43m.\u001b[49m\u001b[43mhandle_request\u001b[49m\u001b[43m(\u001b[49m\u001b[43mrequest\u001b[49m\u001b[43m)\u001b[49m\n\u001b[32m   1016\u001b[39m \u001b[38;5;28;01massert\u001b[39;00m \u001b[38;5;28misinstance\u001b[39m(response.stream, SyncByteStream)\n",
      "\u001b[36mFile \u001b[39m\u001b[32m/data/anaconda3/envs/speech/lib/python3.13/site-packages/httpx/_transports/default.py:249\u001b[39m, in \u001b[36mHTTPTransport.handle_request\u001b[39m\u001b[34m(self, request)\u001b[39m\n\u001b[32m    237\u001b[39m req = httpcore.Request(\n\u001b[32m    238\u001b[39m     method=request.method,\n\u001b[32m    239\u001b[39m     url=httpcore.URL(\n\u001b[32m   (...)\u001b[39m\u001b[32m    247\u001b[39m     extensions=request.extensions,\n\u001b[32m    248\u001b[39m )\n\u001b[32m--> \u001b[39m\u001b[32m249\u001b[39m \u001b[38;5;28;01mwith\u001b[39;00m map_httpcore_exceptions():\n\u001b[32m    250\u001b[39m     resp = \u001b[38;5;28mself\u001b[39m._pool.handle_request(req)\n",
      "\u001b[36mFile \u001b[39m\u001b[32m/data/anaconda3/envs/speech/lib/python3.13/contextlib.py:162\u001b[39m, in \u001b[36m_GeneratorContextManager.__exit__\u001b[39m\u001b[34m(self, typ, value, traceback)\u001b[39m\n\u001b[32m    161\u001b[39m \u001b[38;5;28;01mtry\u001b[39;00m:\n\u001b[32m--> \u001b[39m\u001b[32m162\u001b[39m     \u001b[38;5;28;43mself\u001b[39;49m\u001b[43m.\u001b[49m\u001b[43mgen\u001b[49m\u001b[43m.\u001b[49m\u001b[43mthrow\u001b[49m\u001b[43m(\u001b[49m\u001b[43mvalue\u001b[49m\u001b[43m)\u001b[49m\n\u001b[32m    163\u001b[39m \u001b[38;5;28;01mexcept\u001b[39;00m \u001b[38;5;167;01mStopIteration\u001b[39;00m \u001b[38;5;28;01mas\u001b[39;00m exc:\n\u001b[32m    164\u001b[39m     \u001b[38;5;66;03m# Suppress StopIteration *unless* it's the same exception that\u001b[39;00m\n\u001b[32m    165\u001b[39m     \u001b[38;5;66;03m# was passed to throw().  This prevents a StopIteration\u001b[39;00m\n\u001b[32m    166\u001b[39m     \u001b[38;5;66;03m# raised inside the \"with\" statement from being suppressed.\u001b[39;00m\n",
      "\u001b[36mFile \u001b[39m\u001b[32m/data/anaconda3/envs/speech/lib/python3.13/site-packages/httpx/_transports/default.py:118\u001b[39m, in \u001b[36mmap_httpcore_exceptions\u001b[39m\u001b[34m()\u001b[39m\n\u001b[32m    117\u001b[39m message = \u001b[38;5;28mstr\u001b[39m(exc)\n\u001b[32m--> \u001b[39m\u001b[32m118\u001b[39m \u001b[38;5;28;01mraise\u001b[39;00m mapped_exc(message) \u001b[38;5;28;01mfrom\u001b[39;00m\u001b[38;5;250m \u001b[39m\u001b[34;01mexc\u001b[39;00m\n",
      "\u001b[31mConnectError\u001b[39m: [Errno 111] Connection refused",
      "\nDuring handling of the above exception, another exception occurred:\n",
      "\u001b[31mResponseHandlingException\u001b[39m                 Traceback (most recent call last)",
      "\u001b[36mCell\u001b[39m\u001b[36m \u001b[39m\u001b[32mIn[2]\u001b[39m\u001b[32m, line 1\u001b[39m\n\u001b[32m----> \u001b[39m\u001b[32m1\u001b[39m predicted_speaker_id = \u001b[43mpred_speaker\u001b[49m\u001b[43m(\u001b[49m\u001b[33;43m\"\u001b[39;49m\u001b[33;43m/home/raid3/Diwanshu/prml/prml_speaker_recog_spring_2025/data/processed3/50_speakers_audio_data/Speaker_0000/Speaker_0000_Speaker_0000_00000_chunk1.wav\u001b[39;49m\u001b[33;43m\"\u001b[39;49m\u001b[43m)\u001b[49m\n",
      "\u001b[36mCell\u001b[39m\u001b[36m \u001b[39m\u001b[32mIn[1]\u001b[39m\u001b[32m, line 11\u001b[39m, in \u001b[36mpred_speaker\u001b[39m\u001b[34m(wav_path, collection_name, url)\u001b[39m\n\u001b[32m      9\u001b[39m test_wav = preprocess_wav(wav_path)\n\u001b[32m     10\u001b[39m test_embeddings = encoder.embed_utterance(test_wav)\n\u001b[32m---> \u001b[39m\u001b[32m11\u001b[39m results = \u001b[43mclient\u001b[49m\u001b[43m.\u001b[49m\u001b[43msearch\u001b[49m\u001b[43m(\u001b[49m\u001b[43mcollection_name\u001b[49m\u001b[43m,\u001b[49m\u001b[43m \u001b[49m\u001b[43mtest_embeddings\u001b[49m\u001b[43m,\u001b[49m\u001b[43m \u001b[49m\u001b[43mscore_threshold\u001b[49m\u001b[43m=\u001b[49m\u001b[32;43m0.6\u001b[39;49m\u001b[43m)\u001b[49m\n\u001b[32m     12\u001b[39m top_5_speaker_ids = [result.payload[\u001b[33m\"\u001b[39m\u001b[33mspeaker_id\u001b[39m\u001b[33m\"\u001b[39m] \u001b[38;5;28;01mfor\u001b[39;00m result \u001b[38;5;129;01min\u001b[39;00m results]\n\u001b[32m     13\u001b[39m speaker_id_counts = Counter(top_5_speaker_ids)\n",
      "\u001b[36mFile \u001b[39m\u001b[32m/data/anaconda3/envs/speech/lib/python3.13/site-packages/qdrant_client/qdrant_client.py:373\u001b[39m, in \u001b[36mQdrantClient.search\u001b[39m\u001b[34m(self, collection_name, query_vector, query_filter, search_params, limit, offset, with_payload, with_vectors, score_threshold, append_payload, consistency, shard_key_selector, timeout, **kwargs)\u001b[39m\n\u001b[32m    366\u001b[39m \u001b[38;5;28;01massert\u001b[39;00m \u001b[38;5;28mlen\u001b[39m(kwargs) == \u001b[32m0\u001b[39m, \u001b[33mf\u001b[39m\u001b[33m\"\u001b[39m\u001b[33mUnknown arguments: \u001b[39m\u001b[38;5;132;01m{\u001b[39;00m\u001b[38;5;28mlist\u001b[39m(kwargs.keys())\u001b[38;5;132;01m}\u001b[39;00m\u001b[33m\"\u001b[39m\n\u001b[32m    367\u001b[39m warnings.warn(\n\u001b[32m    368\u001b[39m     \u001b[33m\"\u001b[39m\u001b[33m`search` method is deprecated and will be removed in the future.\u001b[39m\u001b[33m\"\u001b[39m\n\u001b[32m    369\u001b[39m     \u001b[33m\"\u001b[39m\u001b[33m Use `query_points` instead.\u001b[39m\u001b[33m\"\u001b[39m,\n\u001b[32m    370\u001b[39m     \u001b[38;5;167;01mDeprecationWarning\u001b[39;00m,\n\u001b[32m    371\u001b[39m     stacklevel=\u001b[32m2\u001b[39m,\n\u001b[32m    372\u001b[39m )\n\u001b[32m--> \u001b[39m\u001b[32m373\u001b[39m \u001b[38;5;28;01mreturn\u001b[39;00m \u001b[38;5;28;43mself\u001b[39;49m\u001b[43m.\u001b[49m\u001b[43m_client\u001b[49m\u001b[43m.\u001b[49m\u001b[43msearch\u001b[49m\u001b[43m(\u001b[49m\n\u001b[32m    374\u001b[39m \u001b[43m    \u001b[49m\u001b[43mcollection_name\u001b[49m\u001b[43m=\u001b[49m\u001b[43mcollection_name\u001b[49m\u001b[43m,\u001b[49m\n\u001b[32m    375\u001b[39m \u001b[43m    \u001b[49m\u001b[43mquery_vector\u001b[49m\u001b[43m=\u001b[49m\u001b[43mquery_vector\u001b[49m\u001b[43m,\u001b[49m\n\u001b[32m    376\u001b[39m \u001b[43m    \u001b[49m\u001b[43mquery_filter\u001b[49m\u001b[43m=\u001b[49m\u001b[43mquery_filter\u001b[49m\u001b[43m,\u001b[49m\n\u001b[32m    377\u001b[39m \u001b[43m    \u001b[49m\u001b[43msearch_params\u001b[49m\u001b[43m=\u001b[49m\u001b[43msearch_params\u001b[49m\u001b[43m,\u001b[49m\n\u001b[32m    378\u001b[39m \u001b[43m    \u001b[49m\u001b[43mlimit\u001b[49m\u001b[43m=\u001b[49m\u001b[43mlimit\u001b[49m\u001b[43m,\u001b[49m\n\u001b[32m    379\u001b[39m \u001b[43m    \u001b[49m\u001b[43moffset\u001b[49m\u001b[43m=\u001b[49m\u001b[43moffset\u001b[49m\u001b[43m,\u001b[49m\n\u001b[32m    380\u001b[39m \u001b[43m    \u001b[49m\u001b[43mwith_payload\u001b[49m\u001b[43m=\u001b[49m\u001b[43mwith_payload\u001b[49m\u001b[43m,\u001b[49m\n\u001b[32m    381\u001b[39m \u001b[43m    \u001b[49m\u001b[43mwith_vectors\u001b[49m\u001b[43m=\u001b[49m\u001b[43mwith_vectors\u001b[49m\u001b[43m,\u001b[49m\n\u001b[32m    382\u001b[39m \u001b[43m    \u001b[49m\u001b[43mscore_threshold\u001b[49m\u001b[43m=\u001b[49m\u001b[43mscore_threshold\u001b[49m\u001b[43m,\u001b[49m\n\u001b[32m    383\u001b[39m \u001b[43m    \u001b[49m\u001b[43mappend_payload\u001b[49m\u001b[43m=\u001b[49m\u001b[43mappend_payload\u001b[49m\u001b[43m,\u001b[49m\n\u001b[32m    384\u001b[39m \u001b[43m    \u001b[49m\u001b[43mconsistency\u001b[49m\u001b[43m=\u001b[49m\u001b[43mconsistency\u001b[49m\u001b[43m,\u001b[49m\n\u001b[32m    385\u001b[39m \u001b[43m    \u001b[49m\u001b[43mshard_key_selector\u001b[49m\u001b[43m=\u001b[49m\u001b[43mshard_key_selector\u001b[49m\u001b[43m,\u001b[49m\n\u001b[32m    386\u001b[39m \u001b[43m    \u001b[49m\u001b[43mtimeout\u001b[49m\u001b[43m=\u001b[49m\u001b[43mtimeout\u001b[49m\u001b[43m,\u001b[49m\n\u001b[32m    387\u001b[39m \u001b[43m    \u001b[49m\u001b[43m*\u001b[49m\u001b[43m*\u001b[49m\u001b[43mkwargs\u001b[49m\u001b[43m,\u001b[49m\n\u001b[32m    388\u001b[39m \u001b[43m\u001b[49m\u001b[43m)\u001b[49m\n",
      "\u001b[36mFile \u001b[39m\u001b[32m/data/anaconda3/envs/speech/lib/python3.13/site-packages/qdrant_client/qdrant_remote.py:520\u001b[39m, in \u001b[36mQdrantRemote.search\u001b[39m\u001b[34m(self, collection_name, query_vector, query_filter, search_params, limit, offset, with_payload, with_vectors, score_threshold, append_payload, consistency, shard_key_selector, timeout, **kwargs)\u001b[39m\n\u001b[32m    517\u001b[39m \u001b[38;5;28;01mif\u001b[39;00m \u001b[38;5;28misinstance\u001b[39m(with_payload, grpc.WithPayloadSelector):\n\u001b[32m    518\u001b[39m     with_payload = GrpcToRest.convert_with_payload_selector(with_payload)\n\u001b[32m--> \u001b[39m\u001b[32m520\u001b[39m search_result = \u001b[38;5;28;43mself\u001b[39;49m\u001b[43m.\u001b[49m\u001b[43mhttp\u001b[49m\u001b[43m.\u001b[49m\u001b[43msearch_api\u001b[49m\u001b[43m.\u001b[49m\u001b[43msearch_points\u001b[49m\u001b[43m(\u001b[49m\n\u001b[32m    521\u001b[39m \u001b[43m    \u001b[49m\u001b[43mcollection_name\u001b[49m\u001b[43m=\u001b[49m\u001b[43mcollection_name\u001b[49m\u001b[43m,\u001b[49m\n\u001b[32m    522\u001b[39m \u001b[43m    \u001b[49m\u001b[43mconsistency\u001b[49m\u001b[43m=\u001b[49m\u001b[43mconsistency\u001b[49m\u001b[43m,\u001b[49m\n\u001b[32m    523\u001b[39m \u001b[43m    \u001b[49m\u001b[43mtimeout\u001b[49m\u001b[43m=\u001b[49m\u001b[43mtimeout\u001b[49m\u001b[43m,\u001b[49m\n\u001b[32m    524\u001b[39m \u001b[43m    \u001b[49m\u001b[43msearch_request\u001b[49m\u001b[43m=\u001b[49m\u001b[43mmodels\u001b[49m\u001b[43m.\u001b[49m\u001b[43mSearchRequest\u001b[49m\u001b[43m(\u001b[49m\n\u001b[32m    525\u001b[39m \u001b[43m        \u001b[49m\u001b[43mvector\u001b[49m\u001b[43m=\u001b[49m\u001b[43mquery_vector\u001b[49m\u001b[43m,\u001b[49m\n\u001b[32m    526\u001b[39m \u001b[43m        \u001b[49m\u001b[38;5;28;43mfilter\u001b[39;49m\u001b[43m=\u001b[49m\u001b[43mquery_filter\u001b[49m\u001b[43m,\u001b[49m\n\u001b[32m    527\u001b[39m \u001b[43m        \u001b[49m\u001b[43mlimit\u001b[49m\u001b[43m=\u001b[49m\u001b[43mlimit\u001b[49m\u001b[43m,\u001b[49m\n\u001b[32m    528\u001b[39m \u001b[43m        \u001b[49m\u001b[43moffset\u001b[49m\u001b[43m=\u001b[49m\u001b[43moffset\u001b[49m\u001b[43m,\u001b[49m\n\u001b[32m    529\u001b[39m \u001b[43m        \u001b[49m\u001b[43mparams\u001b[49m\u001b[43m=\u001b[49m\u001b[43msearch_params\u001b[49m\u001b[43m,\u001b[49m\n\u001b[32m    530\u001b[39m \u001b[43m        \u001b[49m\u001b[43mwith_vector\u001b[49m\u001b[43m=\u001b[49m\u001b[43mwith_vectors\u001b[49m\u001b[43m,\u001b[49m\n\u001b[32m    531\u001b[39m \u001b[43m        \u001b[49m\u001b[43mwith_payload\u001b[49m\u001b[43m=\u001b[49m\u001b[43mwith_payload\u001b[49m\u001b[43m,\u001b[49m\n\u001b[32m    532\u001b[39m \u001b[43m        \u001b[49m\u001b[43mscore_threshold\u001b[49m\u001b[43m=\u001b[49m\u001b[43mscore_threshold\u001b[49m\u001b[43m,\u001b[49m\n\u001b[32m    533\u001b[39m \u001b[43m        \u001b[49m\u001b[43mshard_key\u001b[49m\u001b[43m=\u001b[49m\u001b[43mshard_key_selector\u001b[49m\u001b[43m,\u001b[49m\n\u001b[32m    534\u001b[39m \u001b[43m    \u001b[49m\u001b[43m)\u001b[49m\u001b[43m,\u001b[49m\n\u001b[32m    535\u001b[39m \u001b[43m\u001b[49m\u001b[43m)\u001b[49m\n\u001b[32m    536\u001b[39m result: Optional[\u001b[38;5;28mlist\u001b[39m[types.ScoredPoint]] = search_result.result\n\u001b[32m    537\u001b[39m \u001b[38;5;28;01massert\u001b[39;00m result \u001b[38;5;129;01mis\u001b[39;00m \u001b[38;5;129;01mnot\u001b[39;00m \u001b[38;5;28;01mNone\u001b[39;00m, \u001b[33m\"\u001b[39m\u001b[33mSearch returned None\u001b[39m\u001b[33m\"\u001b[39m\n",
      "\u001b[36mFile \u001b[39m\u001b[32m/data/anaconda3/envs/speech/lib/python3.13/site-packages/qdrant_client/http/api/search_api.py:936\u001b[39m, in \u001b[36mSyncSearchApi.search_points\u001b[39m\u001b[34m(self, collection_name, consistency, timeout, search_request)\u001b[39m\n\u001b[32m    926\u001b[39m \u001b[38;5;28;01mdef\u001b[39;00m\u001b[38;5;250m \u001b[39m\u001b[34msearch_points\u001b[39m(\n\u001b[32m    927\u001b[39m     \u001b[38;5;28mself\u001b[39m,\n\u001b[32m    928\u001b[39m     collection_name: \u001b[38;5;28mstr\u001b[39m,\n\u001b[32m   (...)\u001b[39m\u001b[32m    931\u001b[39m     search_request: m.SearchRequest = \u001b[38;5;28;01mNone\u001b[39;00m,\n\u001b[32m    932\u001b[39m ) -> m.InlineResponse20017:\n\u001b[32m    933\u001b[39m \u001b[38;5;250m    \u001b[39m\u001b[33;03m\"\"\"\u001b[39;00m\n\u001b[32m    934\u001b[39m \u001b[33;03m    Retrieve closest points based on vector similarity and given filtering conditions\u001b[39;00m\n\u001b[32m    935\u001b[39m \u001b[33;03m    \"\"\"\u001b[39;00m\n\u001b[32m--> \u001b[39m\u001b[32m936\u001b[39m     \u001b[38;5;28;01mreturn\u001b[39;00m \u001b[38;5;28;43mself\u001b[39;49m\u001b[43m.\u001b[49m\u001b[43m_build_for_search_points\u001b[49m\u001b[43m(\u001b[49m\n\u001b[32m    937\u001b[39m \u001b[43m        \u001b[49m\u001b[43mcollection_name\u001b[49m\u001b[43m=\u001b[49m\u001b[43mcollection_name\u001b[49m\u001b[43m,\u001b[49m\n\u001b[32m    938\u001b[39m \u001b[43m        \u001b[49m\u001b[43mconsistency\u001b[49m\u001b[43m=\u001b[49m\u001b[43mconsistency\u001b[49m\u001b[43m,\u001b[49m\n\u001b[32m    939\u001b[39m \u001b[43m        \u001b[49m\u001b[43mtimeout\u001b[49m\u001b[43m=\u001b[49m\u001b[43mtimeout\u001b[49m\u001b[43m,\u001b[49m\n\u001b[32m    940\u001b[39m \u001b[43m        \u001b[49m\u001b[43msearch_request\u001b[49m\u001b[43m=\u001b[49m\u001b[43msearch_request\u001b[49m\u001b[43m,\u001b[49m\n\u001b[32m    941\u001b[39m \u001b[43m    \u001b[49m\u001b[43m)\u001b[49m\n",
      "\u001b[36mFile \u001b[39m\u001b[32m/data/anaconda3/envs/speech/lib/python3.13/site-packages/qdrant_client/http/api/search_api.py:487\u001b[39m, in \u001b[36m_SearchApi._build_for_search_points\u001b[39m\u001b[34m(self, collection_name, consistency, timeout, search_request)\u001b[39m\n\u001b[32m    485\u001b[39m \u001b[38;5;28;01mif\u001b[39;00m \u001b[33m\"\u001b[39m\u001b[33mContent-Type\u001b[39m\u001b[33m\"\u001b[39m \u001b[38;5;129;01mnot\u001b[39;00m \u001b[38;5;129;01min\u001b[39;00m headers:\n\u001b[32m    486\u001b[39m     headers[\u001b[33m\"\u001b[39m\u001b[33mContent-Type\u001b[39m\u001b[33m\"\u001b[39m] = \u001b[33m\"\u001b[39m\u001b[33mapplication/json\u001b[39m\u001b[33m\"\u001b[39m\n\u001b[32m--> \u001b[39m\u001b[32m487\u001b[39m \u001b[38;5;28;01mreturn\u001b[39;00m \u001b[38;5;28;43mself\u001b[39;49m\u001b[43m.\u001b[49m\u001b[43mapi_client\u001b[49m\u001b[43m.\u001b[49m\u001b[43mrequest\u001b[49m\u001b[43m(\u001b[49m\n\u001b[32m    488\u001b[39m \u001b[43m    \u001b[49m\u001b[43mtype_\u001b[49m\u001b[43m=\u001b[49m\u001b[43mm\u001b[49m\u001b[43m.\u001b[49m\u001b[43mInlineResponse20017\u001b[49m\u001b[43m,\u001b[49m\n\u001b[32m    489\u001b[39m \u001b[43m    \u001b[49m\u001b[43mmethod\u001b[49m\u001b[43m=\u001b[49m\u001b[33;43m\"\u001b[39;49m\u001b[33;43mPOST\u001b[39;49m\u001b[33;43m\"\u001b[39;49m\u001b[43m,\u001b[49m\n\u001b[32m    490\u001b[39m \u001b[43m    \u001b[49m\u001b[43murl\u001b[49m\u001b[43m=\u001b[49m\u001b[33;43m\"\u001b[39;49m\u001b[33;43m/collections/\u001b[39;49m\u001b[38;5;132;43;01m{collection_name}\u001b[39;49;00m\u001b[33;43m/points/search\u001b[39;49m\u001b[33;43m\"\u001b[39;49m\u001b[43m,\u001b[49m\n\u001b[32m    491\u001b[39m \u001b[43m    \u001b[49m\u001b[43mheaders\u001b[49m\u001b[43m=\u001b[49m\u001b[43mheaders\u001b[49m\u001b[43m \u001b[49m\u001b[38;5;28;43;01mif\u001b[39;49;00m\u001b[43m \u001b[49m\u001b[43mheaders\u001b[49m\u001b[43m \u001b[49m\u001b[38;5;28;43;01melse\u001b[39;49;00m\u001b[43m \u001b[49m\u001b[38;5;28;43;01mNone\u001b[39;49;00m\u001b[43m,\u001b[49m\n\u001b[32m    492\u001b[39m \u001b[43m    \u001b[49m\u001b[43mpath_params\u001b[49m\u001b[43m=\u001b[49m\u001b[43mpath_params\u001b[49m\u001b[43m,\u001b[49m\n\u001b[32m    493\u001b[39m \u001b[43m    \u001b[49m\u001b[43mparams\u001b[49m\u001b[43m=\u001b[49m\u001b[43mquery_params\u001b[49m\u001b[43m,\u001b[49m\n\u001b[32m    494\u001b[39m \u001b[43m    \u001b[49m\u001b[43mcontent\u001b[49m\u001b[43m=\u001b[49m\u001b[43mbody\u001b[49m\u001b[43m,\u001b[49m\n\u001b[32m    495\u001b[39m \u001b[43m\u001b[49m\u001b[43m)\u001b[49m\n",
      "\u001b[36mFile \u001b[39m\u001b[32m/data/anaconda3/envs/speech/lib/python3.13/site-packages/qdrant_client/http/api_client.py:89\u001b[39m, in \u001b[36mApiClient.request\u001b[39m\u001b[34m(self, type_, method, url, path_params, **kwargs)\u001b[39m\n\u001b[32m     87\u001b[39m     kwargs[\u001b[33m\"\u001b[39m\u001b[33mtimeout\u001b[39m\u001b[33m\"\u001b[39m] = \u001b[38;5;28mint\u001b[39m(kwargs[\u001b[33m\"\u001b[39m\u001b[33mparams\u001b[39m\u001b[33m\"\u001b[39m][\u001b[33m\"\u001b[39m\u001b[33mtimeout\u001b[39m\u001b[33m\"\u001b[39m])\n\u001b[32m     88\u001b[39m request = \u001b[38;5;28mself\u001b[39m._client.build_request(method, url, **kwargs)\n\u001b[32m---> \u001b[39m\u001b[32m89\u001b[39m \u001b[38;5;28;01mreturn\u001b[39;00m \u001b[38;5;28;43mself\u001b[39;49m\u001b[43m.\u001b[49m\u001b[43msend\u001b[49m\u001b[43m(\u001b[49m\u001b[43mrequest\u001b[49m\u001b[43m,\u001b[49m\u001b[43m \u001b[49m\u001b[43mtype_\u001b[49m\u001b[43m)\u001b[49m\n",
      "\u001b[36mFile \u001b[39m\u001b[32m/data/anaconda3/envs/speech/lib/python3.13/site-packages/qdrant_client/http/api_client.py:106\u001b[39m, in \u001b[36mApiClient.send\u001b[39m\u001b[34m(self, request, type_)\u001b[39m\n\u001b[32m    105\u001b[39m \u001b[38;5;28;01mdef\u001b[39;00m\u001b[38;5;250m \u001b[39m\u001b[34msend\u001b[39m(\u001b[38;5;28mself\u001b[39m, request: Request, type_: Type[T]) -> T:\n\u001b[32m--> \u001b[39m\u001b[32m106\u001b[39m     response = \u001b[38;5;28;43mself\u001b[39;49m\u001b[43m.\u001b[49m\u001b[43mmiddleware\u001b[49m\u001b[43m(\u001b[49m\u001b[43mrequest\u001b[49m\u001b[43m,\u001b[49m\u001b[43m \u001b[49m\u001b[38;5;28;43mself\u001b[39;49m\u001b[43m.\u001b[49m\u001b[43msend_inner\u001b[49m\u001b[43m)\u001b[49m\n\u001b[32m    107\u001b[39m     \u001b[38;5;28;01mif\u001b[39;00m response.status_code \u001b[38;5;129;01min\u001b[39;00m [\u001b[32m200\u001b[39m, \u001b[32m201\u001b[39m, \u001b[32m202\u001b[39m]:\n\u001b[32m    108\u001b[39m         \u001b[38;5;28;01mtry\u001b[39;00m:\n",
      "\u001b[36mFile \u001b[39m\u001b[32m/data/anaconda3/envs/speech/lib/python3.13/site-packages/qdrant_client/http/api_client.py:215\u001b[39m, in \u001b[36mBaseMiddleware.__call__\u001b[39m\u001b[34m(self, request, call_next)\u001b[39m\n\u001b[32m    214\u001b[39m \u001b[38;5;28;01mdef\u001b[39;00m\u001b[38;5;250m \u001b[39m\u001b[34m__call__\u001b[39m(\u001b[38;5;28mself\u001b[39m, request: Request, call_next: Send) -> Response:\n\u001b[32m--> \u001b[39m\u001b[32m215\u001b[39m     \u001b[38;5;28;01mreturn\u001b[39;00m \u001b[43mcall_next\u001b[49m\u001b[43m(\u001b[49m\u001b[43mrequest\u001b[49m\u001b[43m)\u001b[49m\n",
      "\u001b[36mFile \u001b[39m\u001b[32m/data/anaconda3/envs/speech/lib/python3.13/site-packages/qdrant_client/http/api_client.py:118\u001b[39m, in \u001b[36mApiClient.send_inner\u001b[39m\u001b[34m(self, request)\u001b[39m\n\u001b[32m    116\u001b[39m     response = \u001b[38;5;28mself\u001b[39m._client.send(request)\n\u001b[32m    117\u001b[39m \u001b[38;5;28;01mexcept\u001b[39;00m \u001b[38;5;167;01mException\u001b[39;00m \u001b[38;5;28;01mas\u001b[39;00m e:\n\u001b[32m--> \u001b[39m\u001b[32m118\u001b[39m     \u001b[38;5;28;01mraise\u001b[39;00m ResponseHandlingException(e)\n\u001b[32m    119\u001b[39m \u001b[38;5;28;01mreturn\u001b[39;00m response\n",
      "\u001b[31mResponseHandlingException\u001b[39m: [Errno 111] Connection refused"
     ]
    }
   ],
   "source": [
    "predicted_speaker_id = pred_speaker(\"/home/raid3/Diwanshu/prml/prml_speaker_recog_spring_2025/data/processed3/50_speakers_audio_data/Speaker_0000/Speaker_0000_Speaker_0000_00000_chunk1.wav\")"
   ]
  },
  {
   "cell_type": "code",
   "execution_count": 28,
   "id": "5eb66633",
   "metadata": {},
   "outputs": [
    {
     "data": {
      "text/plain": [
       "0"
      ]
     },
     "execution_count": 28,
     "metadata": {},
     "output_type": "execute_result"
    }
   ],
   "source": [
    "predicted_speaker_id"
   ]
  },
  {
   "cell_type": "code",
   "execution_count": null,
   "id": "3198b3a7",
   "metadata": {},
   "outputs": [],
   "source": []
  }
 ],
 "metadata": {
  "kernelspec": {
   "display_name": "speech",
   "language": "python",
   "name": "python3"
  },
  "language_info": {
   "codemirror_mode": {
    "name": "ipython",
    "version": 3
   },
   "file_extension": ".py",
   "mimetype": "text/x-python",
   "name": "python",
   "nbconvert_exporter": "python",
   "pygments_lexer": "ipython3",
   "version": "3.13.2"
  }
 },
 "nbformat": 4,
 "nbformat_minor": 5
}
