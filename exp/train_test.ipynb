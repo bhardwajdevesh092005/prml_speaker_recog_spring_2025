{
 "cells": [
  {
   "cell_type": "code",
   "execution_count": 3,
   "id": "5ba8a90e",
   "metadata": {},
   "outputs": [],
   "source": [
    "import numpy as np\n",
    "from sklearn.model_selection import train_test_split\n",
    "x=np.load(\"data/features/x_3_3.npy\")\n",
    "y=np.load(\"data/features/y_3_3.npy\")\n",
    "\n",
    "x_train, x_test, y_train, y_test = train_test_split(x, y, test_size=0.1, random_state=42)\n",
    "np.save(\"data/features/x_train_3_3.npy\", x_train)\n",
    "np.save(\"data/features/y_train_3_3.npy\", y_train)\n",
    "np.save(\"data/features/x_test_3_3.npy\", x_test)\n",
    "np.save(\"data/features/y_test_3_3.npy\", y_test)"
   ]
  },
  {
   "cell_type": "code",
   "execution_count": null,
   "id": "49c6426c",
   "metadata": {},
   "outputs": [],
   "source": []
  }
 ],
 "metadata": {
  "kernelspec": {
   "display_name": "speech",
   "language": "python",
   "name": "python3"
  },
  "language_info": {
   "codemirror_mode": {
    "name": "ipython",
    "version": 3
   },
   "file_extension": ".py",
   "mimetype": "text/x-python",
   "name": "python",
   "nbconvert_exporter": "python",
   "pygments_lexer": "ipython3",
   "version": "3.13.2"
  }
 },
 "nbformat": 4,
 "nbformat_minor": 5
}
